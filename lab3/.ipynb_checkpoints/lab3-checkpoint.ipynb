{
 "cells": [
  {
   "cell_type": "markdown",
   "source": [
    "# Лабораторна робота 3. Моделі текстових даних\n",
    "# Мета роботи: Ознайомитись з основними текстовими моделями та їх створення за допомогою бібліотек scikit-learn та genism.\n",
    "## ІП-13 Ал Хадам Мурат \n",
    "Зчитати файл doc1. Вважати кожен рядок окремим документом корпусу. Виконати попередню обробку корпусу.\n",
    "1)Представити корпус як модель «Сумка слів». Вивести вектор для слова «film».\n",
    "2)Представити корпус як модель TF-IDF. Спробувати кластеризувати документи за допомогою ієрархічної агломераційної кластеризації.\n",
    "3)Представити корпус як модель Word2Vec. Знайти подібні слова до слів shrimp, economy."
   ],
   "metadata": {
    "collapsed": false
   },
   "id": "fefc9189711a7389"
  },
  {
   "cell_type": "code",
   "execution_count": 1,
   "id": "initial_id",
   "metadata": {
    "collapsed": true,
    "ExecuteTime": {
     "end_time": "2024-05-23T21:57:49.762393Z",
     "start_time": "2024-05-23T21:57:48.471939Z"
    }
   },
   "outputs": [],
   "source": [
    "from sklearn.feature_extraction.text import CountVectorizer, TfidfVectorizer\n",
    "from sklearn.cluster import AgglomerativeClustering\n",
    "from nltk.tokenize import word_tokenize"
   ]
  },
  {
   "cell_type": "code",
   "outputs": [],
   "source": [
    "from nltk.corpus import stopwords\n",
    "stop_words = set(stopwords.words('english'))"
   ],
   "metadata": {
    "collapsed": false,
    "ExecuteTime": {
     "end_time": "2024-05-23T21:57:49.778435Z",
     "start_time": "2024-05-23T21:57:49.764910Z"
    }
   },
   "id": "de4d4dec5714be59",
   "execution_count": 2
  },
  {
   "cell_type": "code",
   "outputs": [],
   "source": [
    "from nltk import WordPunctTokenizer\n",
    "import string\n",
    "\n",
    "\n",
    "def clean_text(document):\n",
    "    tokens = WordPunctTokenizer().tokenize(document.lower())\n",
    "    cleaned_tokens = [token for token in tokens if token not in stop_words and token not in string.punctuation]\n",
    "    return ' '.join(cleaned_tokens)"
   ],
   "metadata": {
    "collapsed": false,
    "ExecuteTime": {
     "end_time": "2024-05-23T21:57:49.793525Z",
     "start_time": "2024-05-23T21:57:49.779436Z"
    }
   },
   "id": "96f71b6648b22e67",
   "execution_count": 3
  },
  {
   "cell_type": "code",
   "outputs": [
    {
     "data": {
      "text/plain": "['Whisk the lime juice, oil, chipotle powder, salt, and cumin together in a large bowl. Add the shrimp and toss to combine.\\n',\n 'Growth in Japan evaporated in the three months to September, sparking renewed concern about an economy not long out of a decade-long trough.\\n',\n 'The independent film festival will feature two new international cinema competitions.\\n',\n 'Serve the shrimp with the tortillas and salsa.\\n',\n 'Twelve films competing in the new world cinema documentary category.\\n',\n 'The economy had stagnated throughout the 1990s.\\n',\n 'Actor Daniel Day-Lewis is to be presented with an award for his career in film at the Berlin Film Festival.']"
     },
     "execution_count": 4,
     "metadata": {},
     "output_type": "execute_result"
    }
   ],
   "source": [
    "with open('doc1.txt', 'r') as file:\n",
    "    documents = file.readlines()\n",
    "    \n",
    "documents"
   ],
   "metadata": {
    "collapsed": false,
    "ExecuteTime": {
     "end_time": "2024-05-23T21:57:49.808991Z",
     "start_time": "2024-05-23T21:57:49.794471Z"
    }
   },
   "id": "28202c77edc5f55",
   "execution_count": 4
  },
  {
   "cell_type": "code",
   "outputs": [
    {
     "data": {
      "text/plain": "['whisk lime juice oil chipotle powder salt cumin together large bowl add shrimp toss combine',\n 'growth japan evaporated three months september sparking renewed concern economy long decade long trough',\n 'independent film festival feature two new international cinema competitions',\n 'serve shrimp tortillas salsa',\n 'twelve films competing new world cinema documentary category',\n 'economy stagnated throughout 1990s',\n 'actor daniel day lewis presented award career film berlin film festival']"
     },
     "execution_count": 5,
     "metadata": {},
     "output_type": "execute_result"
    }
   ],
   "source": [
    "corpus = [clean_text(document) for document in documents]\n",
    "corpus"
   ],
   "metadata": {
    "collapsed": false,
    "ExecuteTime": {
     "end_time": "2024-05-23T21:57:49.825045Z",
     "start_time": "2024-05-23T21:57:49.811991Z"
    }
   },
   "id": "481e2d7d82be619",
   "execution_count": 5
  },
  {
   "cell_type": "markdown",
   "source": [
    "1) Представити корпус як модель «Сумка слів». Вивести вектор для слова «film»."
   ],
   "metadata": {
    "collapsed": false
   },
   "id": "38fe75b737d96df6"
  },
  {
   "cell_type": "code",
   "outputs": [
    {
     "name": "stdout",
     "output_type": "stream",
     "text": [
      "Вектор для слова 'film':\n",
      "[[0]\n",
      " [0]\n",
      " [1]\n",
      " [0]\n",
      " [0]\n",
      " [0]\n",
      " [2]]\n"
     ]
    }
   ],
   "source": [
    "vectorizer = CountVectorizer(min_df=0., max_df=1.)  # Використання коректних параметрів\n",
    "X = vectorizer.fit_transform(corpus)\n",
    "\n",
    "print(\"Вектор для слова 'film':\")\n",
    "film_index = vectorizer.vocabulary_.get('film')\n",
    "film_vector = X[:, 23].toarray()\n",
    "\n",
    "print(film_vector)"
   ],
   "metadata": {
    "collapsed": false,
    "ExecuteTime": {
     "end_time": "2024-05-23T21:57:49.840691Z",
     "start_time": "2024-05-23T21:57:49.826044Z"
    }
   },
   "id": "9cee5520f1c3702e",
   "execution_count": 6
  },
  {
   "cell_type": "markdown",
   "source": [
    "2) Представити корпус як модель TF-IDF. Спробувати кластеризувати документи за допомогою ієрархічної агломераційної кластеризації."
   ],
   "metadata": {
    "collapsed": false
   },
   "id": "9f9136ac9e73e21e"
  },
  {
   "cell_type": "code",
   "outputs": [
    {
     "name": "stdout",
     "output_type": "stream",
     "text": [
      "  (0, 25)\t0.25246534896358647\n",
      "  (0, 28)\t0.25246534896358647\n",
      "  (0, 20)\t0.25246534896358647\n",
      "  (0, 47)\t0.25246534896358647\n",
      "  (0, 34)\t0.25246534896358647\n",
      "  (0, 42)\t0.25246534896358647\n",
      "  (0, 45)\t0.25246534896358647\n",
      "  (0, 39)\t0.25246534896358647\n",
      "  (0, 13)\t0.25246534896358647\n",
      "  (0, 19)\t0.2095679211864678\n",
      "  (0, 33)\t0.5049306979271729\n",
      "  (0, 17)\t0.25246534896358647\n",
      "  (0, 52)\t0.25246534896358647\n"
     ]
    }
   ],
   "source": [
    "tfidf_vectorizer = TfidfVectorizer()\n",
    "tfidf_matrix = tfidf_vectorizer.fit_transform(corpus)\n",
    "\n",
    "print(tfidf_matrix[1])"
   ],
   "metadata": {
    "collapsed": false,
    "ExecuteTime": {
     "end_time": "2024-05-23T21:57:49.856436Z",
     "start_time": "2024-05-23T21:57:49.841696Z"
    }
   },
   "id": "237d0e42b2ed3908",
   "execution_count": 7
  },
  {
   "cell_type": "code",
   "outputs": [
    {
     "name": "stdout",
     "output_type": "stream",
     "text": [
      "Hierarchical Agglomeration Clustering Results:\n",
      "Document 1: Cluster 0\n",
      "Document 2: Cluster 0\n",
      "Document 3: Cluster 1\n",
      "Document 4: Cluster 0\n",
      "Document 5: Cluster 1\n",
      "Document 6: Cluster 0\n",
      "Document 7: Cluster 1\n"
     ]
    }
   ],
   "source": [
    "agg_cluster = AgglomerativeClustering(n_clusters=2, linkage='complete')\n",
    "clusters = agg_cluster.fit_predict(tfidf_matrix.toarray())\n",
    "\n",
    "print(\"Hierarchical Agglomeration Clustering Results:\")\n",
    "for i, cluster in enumerate(clusters):\n",
    "    print(f\"Document {i+1}: Cluster {cluster}\")"
   ],
   "metadata": {
    "collapsed": false,
    "ExecuteTime": {
     "end_time": "2024-05-23T21:57:49.888Z",
     "start_time": "2024-05-23T21:57:49.858443Z"
    }
   },
   "id": "7f3303280a837caa",
   "execution_count": 8
  },
  {
   "cell_type": "markdown",
   "source": [
    "Тоĸенізація ĸорпусу"
   ],
   "metadata": {
    "collapsed": false
   },
   "id": "d0331cb0cb3095d0"
  },
  {
   "cell_type": "code",
   "outputs": [],
   "source": [
    "tokenized_corpus = [word_tokenize(doc) for doc in corpus]"
   ],
   "metadata": {
    "collapsed": false,
    "ExecuteTime": {
     "end_time": "2024-05-23T21:57:49.903522Z",
     "start_time": "2024-05-23T21:57:49.889003Z"
    }
   },
   "id": "76ad03764988e30f",
   "execution_count": 9
  },
  {
   "cell_type": "markdown",
   "source": [
    "3)Представити корпус як модель Word2Vec. Знайти подібні слова до слів shrimp, economy."
   ],
   "metadata": {
    "collapsed": false
   },
   "id": "be306347c7d02b9c"
  },
  {
   "cell_type": "code",
   "outputs": [],
   "source": [
    "from gensim.models import Word2Vec\n",
    "\n",
    "word2vec_model = Word2Vec(tokenized_corpus, vector_size=100, window=30, min_count=1, workers=4)"
   ],
   "metadata": {
    "collapsed": false,
    "ExecuteTime": {
     "end_time": "2024-05-23T21:57:50.152833Z",
     "start_time": "2024-05-23T21:57:49.905045Z"
    }
   },
   "id": "b3f4d1946919a940",
   "execution_count": 10
  },
  {
   "cell_type": "markdown",
   "source": [
    "Знайти подібні слова до слів shrimp, economy."
   ],
   "metadata": {
    "collapsed": false
   },
   "id": "7d60cd7ff408a254"
  },
  {
   "cell_type": "code",
   "outputs": [],
   "source": [
    "similar_shrimp = word2vec_model.wv.most_similar('shrimp')\n",
    "similar_economy = word2vec_model.wv.most_similar('economy')"
   ],
   "metadata": {
    "collapsed": false,
    "ExecuteTime": {
     "end_time": "2024-05-23T21:57:50.168876Z",
     "start_time": "2024-05-23T21:57:50.154347Z"
    }
   },
   "id": "dfd6c22b8c4b328d",
   "execution_count": 11
  },
  {
   "cell_type": "code",
   "outputs": [
    {
     "name": "stdout",
     "output_type": "stream",
     "text": [
      "Words similar to 'shrimp':\n",
      "september: 0.16715987026691437\n",
      "independent: 0.16235072910785675\n",
      "cinema: 0.1385204941034317\n",
      "new: 0.131272092461586\n",
      "stagnated: 0.11637789011001587\n",
      "feature: 0.10614291578531265\n",
      "large: 0.09760137647390366\n",
      "career: 0.09716439992189407\n",
      "juice: 0.09657728672027588\n",
      "twelve: 0.08336859196424484\n"
     ]
    }
   ],
   "source": [
    "print(\"Words similar to 'shrimp':\")\n",
    "for word, similarity in similar_shrimp:\n",
    " print(f\"{word}: {similarity}\")"
   ],
   "metadata": {
    "collapsed": false,
    "ExecuteTime": {
     "end_time": "2024-05-23T21:57:50.184503Z",
     "start_time": "2024-05-23T21:57:50.169876Z"
    }
   },
   "id": "e255caa508fcecd2",
   "execution_count": 12
  },
  {
   "cell_type": "code",
   "outputs": [
    {
     "name": "stdout",
     "output_type": "stream",
     "text": [
      "Words similar to 'economy':\n",
      "juice: 0.1889600157737732\n",
      "cumin: 0.18876023590564728\n",
      "competitions: 0.18367287516593933\n",
      "evaporated: 0.16077545285224915\n",
      "add: 0.15947076678276062\n",
      "three: 0.13724888861179352\n",
      "salt: 0.12811677157878876\n",
      "japan: 0.1232738345861435\n",
      "throughout: 0.11799672991037369\n",
      "actor: 0.09485597163438797\n"
     ]
    }
   ],
   "source": [
    "print(\"Words similar to 'economy':\")\n",
    "for word, similarity in similar_economy:\n",
    " print(f\"{word}: {similarity}\")"
   ],
   "metadata": {
    "collapsed": false,
    "ExecuteTime": {
     "end_time": "2024-05-23T21:57:50.200023Z",
     "start_time": "2024-05-23T21:57:50.185503Z"
    }
   },
   "id": "3de3f6ba041bedfa",
   "execution_count": 13
  }
 ],
 "metadata": {
  "kernelspec": {
   "display_name": "Python 3",
   "language": "python",
   "name": "python3"
  },
  "language_info": {
   "codemirror_mode": {
    "name": "ipython",
    "version": 2
   },
   "file_extension": ".py",
   "mimetype": "text/x-python",
   "name": "python",
   "nbconvert_exporter": "python",
   "pygments_lexer": "ipython2",
   "version": "2.7.6"
  }
 },
 "nbformat": 4,
 "nbformat_minor": 5
}
