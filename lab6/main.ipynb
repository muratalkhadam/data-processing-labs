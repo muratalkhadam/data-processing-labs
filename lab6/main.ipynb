{
 "cells": [
  {
   "cell_type": "markdown",
   "source": [
    "# Лабораторна робота №6. Варіант 1.\n",
    "# ІП-13 Ал Хадам Мурат\n",
    "# Аналіз настроїв\n",
    "## Мета роботи: Ознайомитись з вирішенням задачі аналізу настроїв та базовими можливостями бібліотеки spaCy.\n",
    "## Завдання: \n",
    "Створити програму, яка:\n",
    "- Файл twitter1.csv. Використати логістичну регресію\n",
    "1. а) Зчитує заданий набір даних, виконує попередню обробку, розбиває дані на навчальні на тестові. Виконує аналіз настроїв за допомогою алгоритмів класифікації (логістичної регресії, опорних векторів і т.д.). Виводить матрицю невідповідностей та точність моделі. \n",
    "б) Використовує один з готових лексиконів, наприклад Textblob, для аналізу оцінки настроїв. Також розраховує матрицю невідповідностей, та точність моделі.\n",
    "в) Обирає три випадкові записи та виводить результати оцінки їх настрою за пунктами а) і б).\n",
    "2. Виконує завдання відповідно до варіанту засобами бібліотеки spaCy.\n",
    "- Файл lab6-1.txt. \n",
    "а) Знайти та вивести стоп-слова, які присутні у тексті.\n",
    "б) Знайти та вивести всі іменники, які присутні у тексті. \n",
    "в) Знайти та вивести числа і дати, які присутні у тексті."
   ],
   "metadata": {
    "collapsed": false
   },
   "id": "6bc32ee6b20917c8"
  },
  {
   "cell_type": "code",
   "execution_count": 1,
   "id": "initial_id",
   "metadata": {
    "collapsed": true,
    "ExecuteTime": {
     "end_time": "2024-05-24T10:09:22.797391Z",
     "start_time": "2024-05-24T10:09:21.996265Z"
    }
   },
   "outputs": [],
   "source": [
    "import pandas as pd\n",
    "from sklearn.model_selection import train_test_split\n",
    "from sklearn.feature_extraction.text import TfidfVectorizer\n",
    "from sklearn.linear_model import LogisticRegression\n",
    "from sklearn.metrics import confusion_matrix, accuracy_score, classification_report\n",
    "from sklearn.preprocessing import LabelEncoder\n",
    "import warnings\n",
    "warnings.filterwarnings(\"ignore\")\n",
    "from textblob import TextBlob\n",
    "import seaborn as sns\n",
    "import matplotlib.pyplot as plt\n",
    "import random"
   ]
  },
  {
   "cell_type": "code",
   "outputs": [
    {
     "data": {
      "text/plain": "         id       domain sentiment  \\\n0      2401  Borderlands  Positive   \n1      2401  Borderlands  Positive   \n2      2401  Borderlands  Positive   \n3      2401  Borderlands  Positive   \n4      2401  Borderlands  Positive   \n...     ...          ...       ...   \n74677  9200       Nvidia  Positive   \n74678  9200       Nvidia  Positive   \n74679  9200       Nvidia  Positive   \n74680  9200       Nvidia  Positive   \n74681  9200       Nvidia  Positive   \n\n                                                    text  \n0      im getting on borderlands and i will murder yo...  \n1      I am coming to the borders and I will kill you...  \n2      im getting on borderlands and i will kill you ...  \n3      im coming on borderlands and i will murder you...  \n4      im getting on borderlands 2 and i will murder ...  \n...                                                  ...  \n74677  Just realized that the Windows partition of my...  \n74678  Just realized that my Mac window partition is ...  \n74679  Just realized the windows partition of my Mac ...  \n74680  Just realized between the windows partition of...  \n74681  Just like the windows partition of my Mac is l...  \n\n[74682 rows x 4 columns]",
      "text/html": "<div>\n<style scoped>\n    .dataframe tbody tr th:only-of-type {\n        vertical-align: middle;\n    }\n\n    .dataframe tbody tr th {\n        vertical-align: top;\n    }\n\n    .dataframe thead th {\n        text-align: right;\n    }\n</style>\n<table border=\"1\" class=\"dataframe\">\n  <thead>\n    <tr style=\"text-align: right;\">\n      <th></th>\n      <th>id</th>\n      <th>domain</th>\n      <th>sentiment</th>\n      <th>text</th>\n    </tr>\n  </thead>\n  <tbody>\n    <tr>\n      <th>0</th>\n      <td>2401</td>\n      <td>Borderlands</td>\n      <td>Positive</td>\n      <td>im getting on borderlands and i will murder yo...</td>\n    </tr>\n    <tr>\n      <th>1</th>\n      <td>2401</td>\n      <td>Borderlands</td>\n      <td>Positive</td>\n      <td>I am coming to the borders and I will kill you...</td>\n    </tr>\n    <tr>\n      <th>2</th>\n      <td>2401</td>\n      <td>Borderlands</td>\n      <td>Positive</td>\n      <td>im getting on borderlands and i will kill you ...</td>\n    </tr>\n    <tr>\n      <th>3</th>\n      <td>2401</td>\n      <td>Borderlands</td>\n      <td>Positive</td>\n      <td>im coming on borderlands and i will murder you...</td>\n    </tr>\n    <tr>\n      <th>4</th>\n      <td>2401</td>\n      <td>Borderlands</td>\n      <td>Positive</td>\n      <td>im getting on borderlands 2 and i will murder ...</td>\n    </tr>\n    <tr>\n      <th>...</th>\n      <td>...</td>\n      <td>...</td>\n      <td>...</td>\n      <td>...</td>\n    </tr>\n    <tr>\n      <th>74677</th>\n      <td>9200</td>\n      <td>Nvidia</td>\n      <td>Positive</td>\n      <td>Just realized that the Windows partition of my...</td>\n    </tr>\n    <tr>\n      <th>74678</th>\n      <td>9200</td>\n      <td>Nvidia</td>\n      <td>Positive</td>\n      <td>Just realized that my Mac window partition is ...</td>\n    </tr>\n    <tr>\n      <th>74679</th>\n      <td>9200</td>\n      <td>Nvidia</td>\n      <td>Positive</td>\n      <td>Just realized the windows partition of my Mac ...</td>\n    </tr>\n    <tr>\n      <th>74680</th>\n      <td>9200</td>\n      <td>Nvidia</td>\n      <td>Positive</td>\n      <td>Just realized between the windows partition of...</td>\n    </tr>\n    <tr>\n      <th>74681</th>\n      <td>9200</td>\n      <td>Nvidia</td>\n      <td>Positive</td>\n      <td>Just like the windows partition of my Mac is l...</td>\n    </tr>\n  </tbody>\n</table>\n<p>74682 rows × 4 columns</p>\n</div>"
     },
     "execution_count": 2,
     "metadata": {},
     "output_type": "execute_result"
    }
   ],
   "source": [
    "# Завантаження даних\n",
    "data = pd.read_csv('twitter1.csv', names=['id', 'domain', 'sentiment', 'text'])\n",
    "data"
   ],
   "metadata": {
    "collapsed": false,
    "ExecuteTime": {
     "end_time": "2024-05-24T10:09:22.987798Z",
     "start_time": "2024-05-24T10:09:22.798396Z"
    }
   },
   "id": "75a582dfa98b1210",
   "execution_count": 2
  },
  {
   "cell_type": "code",
   "outputs": [
    {
     "data": {
      "text/plain": "id             0\ndomain         0\nsentiment      0\ntext         686\ndtype: int64"
     },
     "execution_count": 3,
     "metadata": {},
     "output_type": "execute_result"
    }
   ],
   "source": [
    "data.isnull().sum()"
   ],
   "metadata": {
    "collapsed": false,
    "ExecuteTime": {
     "end_time": "2024-05-24T10:09:23.020500Z",
     "start_time": "2024-05-24T10:09:22.990333Z"
    }
   },
   "id": "21e3c03e65732e5",
   "execution_count": 3
  },
  {
   "cell_type": "code",
   "outputs": [
    {
     "data": {
      "text/plain": "         id       domain sentiment  \\\n0      2401  Borderlands  Positive   \n1      2401  Borderlands  Positive   \n2      2401  Borderlands  Positive   \n3      2401  Borderlands  Positive   \n4      2401  Borderlands  Positive   \n...     ...          ...       ...   \n74677  9200       Nvidia  Positive   \n74678  9200       Nvidia  Positive   \n74679  9200       Nvidia  Positive   \n74680  9200       Nvidia  Positive   \n74681  9200       Nvidia  Positive   \n\n                                                    text  \n0      im getting on borderlands and i will murder yo...  \n1      I am coming to the borders and I will kill you...  \n2      im getting on borderlands and i will kill you ...  \n3      im coming on borderlands and i will murder you...  \n4      im getting on borderlands 2 and i will murder ...  \n...                                                  ...  \n74677  Just realized that the Windows partition of my...  \n74678  Just realized that my Mac window partition is ...  \n74679  Just realized the windows partition of my Mac ...  \n74680  Just realized between the windows partition of...  \n74681  Just like the windows partition of my Mac is l...  \n\n[73996 rows x 4 columns]",
      "text/html": "<div>\n<style scoped>\n    .dataframe tbody tr th:only-of-type {\n        vertical-align: middle;\n    }\n\n    .dataframe tbody tr th {\n        vertical-align: top;\n    }\n\n    .dataframe thead th {\n        text-align: right;\n    }\n</style>\n<table border=\"1\" class=\"dataframe\">\n  <thead>\n    <tr style=\"text-align: right;\">\n      <th></th>\n      <th>id</th>\n      <th>domain</th>\n      <th>sentiment</th>\n      <th>text</th>\n    </tr>\n  </thead>\n  <tbody>\n    <tr>\n      <th>0</th>\n      <td>2401</td>\n      <td>Borderlands</td>\n      <td>Positive</td>\n      <td>im getting on borderlands and i will murder yo...</td>\n    </tr>\n    <tr>\n      <th>1</th>\n      <td>2401</td>\n      <td>Borderlands</td>\n      <td>Positive</td>\n      <td>I am coming to the borders and I will kill you...</td>\n    </tr>\n    <tr>\n      <th>2</th>\n      <td>2401</td>\n      <td>Borderlands</td>\n      <td>Positive</td>\n      <td>im getting on borderlands and i will kill you ...</td>\n    </tr>\n    <tr>\n      <th>3</th>\n      <td>2401</td>\n      <td>Borderlands</td>\n      <td>Positive</td>\n      <td>im coming on borderlands and i will murder you...</td>\n    </tr>\n    <tr>\n      <th>4</th>\n      <td>2401</td>\n      <td>Borderlands</td>\n      <td>Positive</td>\n      <td>im getting on borderlands 2 and i will murder ...</td>\n    </tr>\n    <tr>\n      <th>...</th>\n      <td>...</td>\n      <td>...</td>\n      <td>...</td>\n      <td>...</td>\n    </tr>\n    <tr>\n      <th>74677</th>\n      <td>9200</td>\n      <td>Nvidia</td>\n      <td>Positive</td>\n      <td>Just realized that the Windows partition of my...</td>\n    </tr>\n    <tr>\n      <th>74678</th>\n      <td>9200</td>\n      <td>Nvidia</td>\n      <td>Positive</td>\n      <td>Just realized that my Mac window partition is ...</td>\n    </tr>\n    <tr>\n      <th>74679</th>\n      <td>9200</td>\n      <td>Nvidia</td>\n      <td>Positive</td>\n      <td>Just realized the windows partition of my Mac ...</td>\n    </tr>\n    <tr>\n      <th>74680</th>\n      <td>9200</td>\n      <td>Nvidia</td>\n      <td>Positive</td>\n      <td>Just realized between the windows partition of...</td>\n    </tr>\n    <tr>\n      <th>74681</th>\n      <td>9200</td>\n      <td>Nvidia</td>\n      <td>Positive</td>\n      <td>Just like the windows partition of my Mac is l...</td>\n    </tr>\n  </tbody>\n</table>\n<p>73996 rows × 4 columns</p>\n</div>"
     },
     "execution_count": 4,
     "metadata": {},
     "output_type": "execute_result"
    }
   ],
   "source": [
    "data = data.dropna()\n",
    "data"
   ],
   "metadata": {
    "collapsed": false,
    "ExecuteTime": {
     "end_time": "2024-05-24T10:09:23.051999Z",
     "start_time": "2024-05-24T10:09:23.021423Z"
    }
   },
   "id": "61a052a301a9051c",
   "execution_count": 4
  },
  {
   "cell_type": "code",
   "outputs": [
    {
     "data": {
      "text/plain": "sentiment\nNegative      22358\nPositive      20655\nNeutral       18108\nIrrelevant    12875\nName: count, dtype: int64"
     },
     "execution_count": 5,
     "metadata": {},
     "output_type": "execute_result"
    }
   ],
   "source": [
    "data['sentiment'].value_counts()"
   ],
   "metadata": {
    "collapsed": false,
    "ExecuteTime": {
     "end_time": "2024-05-24T10:09:23.067532Z",
     "start_time": "2024-05-24T10:09:23.052996Z"
    }
   },
   "id": "5e880feb1766a471",
   "execution_count": 5
  },
  {
   "cell_type": "code",
   "outputs": [
    {
     "data": {
      "text/plain": "0        Positive\n1        Positive\n2        Positive\n3        Positive\n4        Positive\n           ...   \n74677    Positive\n74678    Positive\n74679    Positive\n74680    Positive\n74681    Positive\nName: sentiment, Length: 73996, dtype: object"
     },
     "execution_count": 6,
     "metadata": {},
     "output_type": "execute_result"
    }
   ],
   "source": [
    "X = data['text']\n",
    "y = data['sentiment']\n",
    "y"
   ],
   "metadata": {
    "collapsed": false,
    "ExecuteTime": {
     "end_time": "2024-05-24T10:09:23.083575Z",
     "start_time": "2024-05-24T10:09:23.068530Z"
    }
   },
   "id": "a9a355632234c9b9",
   "execution_count": 6
  },
  {
   "cell_type": "code",
   "outputs": [
    {
     "data": {
      "text/plain": "array([3, 3, 3, ..., 3, 3, 3])"
     },
     "execution_count": 7,
     "metadata": {},
     "output_type": "execute_result"
    }
   ],
   "source": [
    "encoder = LabelEncoder()\n",
    "y = encoder.fit_transform(y)\n",
    "y"
   ],
   "metadata": {
    "collapsed": false,
    "ExecuteTime": {
     "end_time": "2024-05-24T10:09:23.114134Z",
     "start_time": "2024-05-24T10:09:23.084580Z"
    }
   },
   "id": "dffecc5421e2f360",
   "execution_count": 7
  },
  {
   "cell_type": "code",
   "outputs": [
    {
     "name": "stdout",
     "output_type": "stream",
     "text": [
      "{0: 'Irrelevant', 1: 'Negative', 2: 'Neutral', 3: 'Positive'}\n"
     ]
    }
   ],
   "source": [
    "label_mapping = {index: label for index, label in enumerate(encoder.classes_)}\n",
    "print(label_mapping)"
   ],
   "metadata": {
    "collapsed": false,
    "ExecuteTime": {
     "end_time": "2024-05-24T10:09:23.130188Z",
     "start_time": "2024-05-24T10:09:23.115138Z"
    }
   },
   "id": "ff23f1e54cba6ae8",
   "execution_count": 8
  },
  {
   "cell_type": "markdown",
   "source": [
    "Розбиття даних на навчальні та тестові"
   ],
   "metadata": {
    "collapsed": false
   },
   "id": "f90bc5f82287a63"
  },
  {
   "cell_type": "code",
   "outputs": [],
   "source": [
    "X_train, X_test, y_train, y_test = train_test_split(X, y, test_size=0.2, random_state=42)"
   ],
   "metadata": {
    "collapsed": false,
    "ExecuteTime": {
     "end_time": "2024-05-24T10:09:23.146239Z",
     "start_time": "2024-05-24T10:09:23.131711Z"
    }
   },
   "id": "89034b83f7bb2588",
   "execution_count": 9
  },
  {
   "cell_type": "markdown",
   "source": [
    "Векторизація текстів"
   ],
   "metadata": {
    "collapsed": false
   },
   "id": "912f184cb8608a0b"
  },
  {
   "cell_type": "code",
   "outputs": [],
   "source": [
    "vectorizer = TfidfVectorizer()\n",
    "\n",
    "X_train_vec = vectorizer.fit_transform(X_train)\n",
    "X_test_vec = vectorizer.transform(X_test)"
   ],
   "metadata": {
    "collapsed": false,
    "ExecuteTime": {
     "end_time": "2024-05-24T10:09:24.354360Z",
     "start_time": "2024-05-24T10:09:23.147241Z"
    }
   },
   "id": "4c8ecd79c4d44709",
   "execution_count": 10
  },
  {
   "cell_type": "markdown",
   "source": [
    "Навчання моделі логістичної регресії"
   ],
   "metadata": {
    "collapsed": false
   },
   "id": "75c1129e9edb1f6d"
  },
  {
   "cell_type": "code",
   "outputs": [
    {
     "data": {
      "text/plain": "LogisticRegression()",
      "text/html": "<style>#sk-container-id-1 {\n  /* Definition of color scheme common for light and dark mode */\n  --sklearn-color-text: black;\n  --sklearn-color-line: gray;\n  /* Definition of color scheme for unfitted estimators */\n  --sklearn-color-unfitted-level-0: #fff5e6;\n  --sklearn-color-unfitted-level-1: #f6e4d2;\n  --sklearn-color-unfitted-level-2: #ffe0b3;\n  --sklearn-color-unfitted-level-3: chocolate;\n  /* Definition of color scheme for fitted estimators */\n  --sklearn-color-fitted-level-0: #f0f8ff;\n  --sklearn-color-fitted-level-1: #d4ebff;\n  --sklearn-color-fitted-level-2: #b3dbfd;\n  --sklearn-color-fitted-level-3: cornflowerblue;\n\n  /* Specific color for light theme */\n  --sklearn-color-text-on-default-background: var(--sg-text-color, var(--theme-code-foreground, var(--jp-content-font-color1, black)));\n  --sklearn-color-background: var(--sg-background-color, var(--theme-background, var(--jp-layout-color0, white)));\n  --sklearn-color-border-box: var(--sg-text-color, var(--theme-code-foreground, var(--jp-content-font-color1, black)));\n  --sklearn-color-icon: #696969;\n\n  @media (prefers-color-scheme: dark) {\n    /* Redefinition of color scheme for dark theme */\n    --sklearn-color-text-on-default-background: var(--sg-text-color, var(--theme-code-foreground, var(--jp-content-font-color1, white)));\n    --sklearn-color-background: var(--sg-background-color, var(--theme-background, var(--jp-layout-color0, #111)));\n    --sklearn-color-border-box: var(--sg-text-color, var(--theme-code-foreground, var(--jp-content-font-color1, white)));\n    --sklearn-color-icon: #878787;\n  }\n}\n\n#sk-container-id-1 {\n  color: var(--sklearn-color-text);\n}\n\n#sk-container-id-1 pre {\n  padding: 0;\n}\n\n#sk-container-id-1 input.sk-hidden--visually {\n  border: 0;\n  clip: rect(1px 1px 1px 1px);\n  clip: rect(1px, 1px, 1px, 1px);\n  height: 1px;\n  margin: -1px;\n  overflow: hidden;\n  padding: 0;\n  position: absolute;\n  width: 1px;\n}\n\n#sk-container-id-1 div.sk-dashed-wrapped {\n  border: 1px dashed var(--sklearn-color-line);\n  margin: 0 0.4em 0.5em 0.4em;\n  box-sizing: border-box;\n  padding-bottom: 0.4em;\n  background-color: var(--sklearn-color-background);\n}\n\n#sk-container-id-1 div.sk-container {\n  /* jupyter's `normalize.less` sets `[hidden] { display: none; }`\n     but bootstrap.min.css set `[hidden] { display: none !important; }`\n     so we also need the `!important` here to be able to override the\n     default hidden behavior on the sphinx rendered scikit-learn.org.\n     See: https://github.com/scikit-learn/scikit-learn/issues/21755 */\n  display: inline-block !important;\n  position: relative;\n}\n\n#sk-container-id-1 div.sk-text-repr-fallback {\n  display: none;\n}\n\ndiv.sk-parallel-item,\ndiv.sk-serial,\ndiv.sk-item {\n  /* draw centered vertical line to link estimators */\n  background-image: linear-gradient(var(--sklearn-color-text-on-default-background), var(--sklearn-color-text-on-default-background));\n  background-size: 2px 100%;\n  background-repeat: no-repeat;\n  background-position: center center;\n}\n\n/* Parallel-specific style estimator block */\n\n#sk-container-id-1 div.sk-parallel-item::after {\n  content: \"\";\n  width: 100%;\n  border-bottom: 2px solid var(--sklearn-color-text-on-default-background);\n  flex-grow: 1;\n}\n\n#sk-container-id-1 div.sk-parallel {\n  display: flex;\n  align-items: stretch;\n  justify-content: center;\n  background-color: var(--sklearn-color-background);\n  position: relative;\n}\n\n#sk-container-id-1 div.sk-parallel-item {\n  display: flex;\n  flex-direction: column;\n}\n\n#sk-container-id-1 div.sk-parallel-item:first-child::after {\n  align-self: flex-end;\n  width: 50%;\n}\n\n#sk-container-id-1 div.sk-parallel-item:last-child::after {\n  align-self: flex-start;\n  width: 50%;\n}\n\n#sk-container-id-1 div.sk-parallel-item:only-child::after {\n  width: 0;\n}\n\n/* Serial-specific style estimator block */\n\n#sk-container-id-1 div.sk-serial {\n  display: flex;\n  flex-direction: column;\n  align-items: center;\n  background-color: var(--sklearn-color-background);\n  padding-right: 1em;\n  padding-left: 1em;\n}\n\n\n/* Toggleable style: style used for estimator/Pipeline/ColumnTransformer box that is\nclickable and can be expanded/collapsed.\n- Pipeline and ColumnTransformer use this feature and define the default style\n- Estimators will overwrite some part of the style using the `sk-estimator` class\n*/\n\n/* Pipeline and ColumnTransformer style (default) */\n\n#sk-container-id-1 div.sk-toggleable {\n  /* Default theme specific background. It is overwritten whether we have a\n  specific estimator or a Pipeline/ColumnTransformer */\n  background-color: var(--sklearn-color-background);\n}\n\n/* Toggleable label */\n#sk-container-id-1 label.sk-toggleable__label {\n  cursor: pointer;\n  display: block;\n  width: 100%;\n  margin-bottom: 0;\n  padding: 0.5em;\n  box-sizing: border-box;\n  text-align: center;\n}\n\n#sk-container-id-1 label.sk-toggleable__label-arrow:before {\n  /* Arrow on the left of the label */\n  content: \"▸\";\n  float: left;\n  margin-right: 0.25em;\n  color: var(--sklearn-color-icon);\n}\n\n#sk-container-id-1 label.sk-toggleable__label-arrow:hover:before {\n  color: var(--sklearn-color-text);\n}\n\n/* Toggleable content - dropdown */\n\n#sk-container-id-1 div.sk-toggleable__content {\n  max-height: 0;\n  max-width: 0;\n  overflow: hidden;\n  text-align: left;\n  /* unfitted */\n  background-color: var(--sklearn-color-unfitted-level-0);\n}\n\n#sk-container-id-1 div.sk-toggleable__content.fitted {\n  /* fitted */\n  background-color: var(--sklearn-color-fitted-level-0);\n}\n\n#sk-container-id-1 div.sk-toggleable__content pre {\n  margin: 0.2em;\n  border-radius: 0.25em;\n  color: var(--sklearn-color-text);\n  /* unfitted */\n  background-color: var(--sklearn-color-unfitted-level-0);\n}\n\n#sk-container-id-1 div.sk-toggleable__content.fitted pre {\n  /* unfitted */\n  background-color: var(--sklearn-color-fitted-level-0);\n}\n\n#sk-container-id-1 input.sk-toggleable__control:checked~div.sk-toggleable__content {\n  /* Expand drop-down */\n  max-height: 200px;\n  max-width: 100%;\n  overflow: auto;\n}\n\n#sk-container-id-1 input.sk-toggleable__control:checked~label.sk-toggleable__label-arrow:before {\n  content: \"▾\";\n}\n\n/* Pipeline/ColumnTransformer-specific style */\n\n#sk-container-id-1 div.sk-label input.sk-toggleable__control:checked~label.sk-toggleable__label {\n  color: var(--sklearn-color-text);\n  background-color: var(--sklearn-color-unfitted-level-2);\n}\n\n#sk-container-id-1 div.sk-label.fitted input.sk-toggleable__control:checked~label.sk-toggleable__label {\n  background-color: var(--sklearn-color-fitted-level-2);\n}\n\n/* Estimator-specific style */\n\n/* Colorize estimator box */\n#sk-container-id-1 div.sk-estimator input.sk-toggleable__control:checked~label.sk-toggleable__label {\n  /* unfitted */\n  background-color: var(--sklearn-color-unfitted-level-2);\n}\n\n#sk-container-id-1 div.sk-estimator.fitted input.sk-toggleable__control:checked~label.sk-toggleable__label {\n  /* fitted */\n  background-color: var(--sklearn-color-fitted-level-2);\n}\n\n#sk-container-id-1 div.sk-label label.sk-toggleable__label,\n#sk-container-id-1 div.sk-label label {\n  /* The background is the default theme color */\n  color: var(--sklearn-color-text-on-default-background);\n}\n\n/* On hover, darken the color of the background */\n#sk-container-id-1 div.sk-label:hover label.sk-toggleable__label {\n  color: var(--sklearn-color-text);\n  background-color: var(--sklearn-color-unfitted-level-2);\n}\n\n/* Label box, darken color on hover, fitted */\n#sk-container-id-1 div.sk-label.fitted:hover label.sk-toggleable__label.fitted {\n  color: var(--sklearn-color-text);\n  background-color: var(--sklearn-color-fitted-level-2);\n}\n\n/* Estimator label */\n\n#sk-container-id-1 div.sk-label label {\n  font-family: monospace;\n  font-weight: bold;\n  display: inline-block;\n  line-height: 1.2em;\n}\n\n#sk-container-id-1 div.sk-label-container {\n  text-align: center;\n}\n\n/* Estimator-specific */\n#sk-container-id-1 div.sk-estimator {\n  font-family: monospace;\n  border: 1px dotted var(--sklearn-color-border-box);\n  border-radius: 0.25em;\n  box-sizing: border-box;\n  margin-bottom: 0.5em;\n  /* unfitted */\n  background-color: var(--sklearn-color-unfitted-level-0);\n}\n\n#sk-container-id-1 div.sk-estimator.fitted {\n  /* fitted */\n  background-color: var(--sklearn-color-fitted-level-0);\n}\n\n/* on hover */\n#sk-container-id-1 div.sk-estimator:hover {\n  /* unfitted */\n  background-color: var(--sklearn-color-unfitted-level-2);\n}\n\n#sk-container-id-1 div.sk-estimator.fitted:hover {\n  /* fitted */\n  background-color: var(--sklearn-color-fitted-level-2);\n}\n\n/* Specification for estimator info (e.g. \"i\" and \"?\") */\n\n/* Common style for \"i\" and \"?\" */\n\n.sk-estimator-doc-link,\na:link.sk-estimator-doc-link,\na:visited.sk-estimator-doc-link {\n  float: right;\n  font-size: smaller;\n  line-height: 1em;\n  font-family: monospace;\n  background-color: var(--sklearn-color-background);\n  border-radius: 1em;\n  height: 1em;\n  width: 1em;\n  text-decoration: none !important;\n  margin-left: 1ex;\n  /* unfitted */\n  border: var(--sklearn-color-unfitted-level-1) 1pt solid;\n  color: var(--sklearn-color-unfitted-level-1);\n}\n\n.sk-estimator-doc-link.fitted,\na:link.sk-estimator-doc-link.fitted,\na:visited.sk-estimator-doc-link.fitted {\n  /* fitted */\n  border: var(--sklearn-color-fitted-level-1) 1pt solid;\n  color: var(--sklearn-color-fitted-level-1);\n}\n\n/* On hover */\ndiv.sk-estimator:hover .sk-estimator-doc-link:hover,\n.sk-estimator-doc-link:hover,\ndiv.sk-label-container:hover .sk-estimator-doc-link:hover,\n.sk-estimator-doc-link:hover {\n  /* unfitted */\n  background-color: var(--sklearn-color-unfitted-level-3);\n  color: var(--sklearn-color-background);\n  text-decoration: none;\n}\n\ndiv.sk-estimator.fitted:hover .sk-estimator-doc-link.fitted:hover,\n.sk-estimator-doc-link.fitted:hover,\ndiv.sk-label-container:hover .sk-estimator-doc-link.fitted:hover,\n.sk-estimator-doc-link.fitted:hover {\n  /* fitted */\n  background-color: var(--sklearn-color-fitted-level-3);\n  color: var(--sklearn-color-background);\n  text-decoration: none;\n}\n\n/* Span, style for the box shown on hovering the info icon */\n.sk-estimator-doc-link span {\n  display: none;\n  z-index: 9999;\n  position: relative;\n  font-weight: normal;\n  right: .2ex;\n  padding: .5ex;\n  margin: .5ex;\n  width: min-content;\n  min-width: 20ex;\n  max-width: 50ex;\n  color: var(--sklearn-color-text);\n  box-shadow: 2pt 2pt 4pt #999;\n  /* unfitted */\n  background: var(--sklearn-color-unfitted-level-0);\n  border: .5pt solid var(--sklearn-color-unfitted-level-3);\n}\n\n.sk-estimator-doc-link.fitted span {\n  /* fitted */\n  background: var(--sklearn-color-fitted-level-0);\n  border: var(--sklearn-color-fitted-level-3);\n}\n\n.sk-estimator-doc-link:hover span {\n  display: block;\n}\n\n/* \"?\"-specific style due to the `<a>` HTML tag */\n\n#sk-container-id-1 a.estimator_doc_link {\n  float: right;\n  font-size: 1rem;\n  line-height: 1em;\n  font-family: monospace;\n  background-color: var(--sklearn-color-background);\n  border-radius: 1rem;\n  height: 1rem;\n  width: 1rem;\n  text-decoration: none;\n  /* unfitted */\n  color: var(--sklearn-color-unfitted-level-1);\n  border: var(--sklearn-color-unfitted-level-1) 1pt solid;\n}\n\n#sk-container-id-1 a.estimator_doc_link.fitted {\n  /* fitted */\n  border: var(--sklearn-color-fitted-level-1) 1pt solid;\n  color: var(--sklearn-color-fitted-level-1);\n}\n\n/* On hover */\n#sk-container-id-1 a.estimator_doc_link:hover {\n  /* unfitted */\n  background-color: var(--sklearn-color-unfitted-level-3);\n  color: var(--sklearn-color-background);\n  text-decoration: none;\n}\n\n#sk-container-id-1 a.estimator_doc_link.fitted:hover {\n  /* fitted */\n  background-color: var(--sklearn-color-fitted-level-3);\n}\n</style><div id=\"sk-container-id-1\" class=\"sk-top-container\"><div class=\"sk-text-repr-fallback\"><pre>LogisticRegression()</pre><b>In a Jupyter environment, please rerun this cell to show the HTML representation or trust the notebook. <br />On GitHub, the HTML representation is unable to render, please try loading this page with nbviewer.org.</b></div><div class=\"sk-container\" hidden><div class=\"sk-item\"><div class=\"sk-estimator fitted sk-toggleable\"><input class=\"sk-toggleable__control sk-hidden--visually\" id=\"sk-estimator-id-1\" type=\"checkbox\" checked><label for=\"sk-estimator-id-1\" class=\"sk-toggleable__label fitted sk-toggleable__label-arrow fitted\">&nbsp;&nbsp;LogisticRegression<a class=\"sk-estimator-doc-link fitted\" rel=\"noreferrer\" target=\"_blank\" href=\"https://scikit-learn.org/1.5/modules/generated/sklearn.linear_model.LogisticRegression.html\">?<span>Documentation for LogisticRegression</span></a><span class=\"sk-estimator-doc-link fitted\">i<span>Fitted</span></span></label><div class=\"sk-toggleable__content fitted\"><pre>LogisticRegression()</pre></div> </div></div></div></div>"
     },
     "execution_count": 11,
     "metadata": {},
     "output_type": "execute_result"
    }
   ],
   "source": [
    "model = LogisticRegression()\n",
    "model.fit(X_train_vec, y_train)"
   ],
   "metadata": {
    "collapsed": false,
    "ExecuteTime": {
     "end_time": "2024-05-24T10:09:27.065012Z",
     "start_time": "2024-05-24T10:09:24.355365Z"
    }
   },
   "id": "ed3210361e06124",
   "execution_count": 11
  },
  {
   "cell_type": "markdown",
   "source": [
    "Матриця невідповідностей та точність моделі"
   ],
   "metadata": {
    "collapsed": false
   },
   "id": "296ae5f0c40a4527"
  },
  {
   "cell_type": "code",
   "outputs": [],
   "source": [
    "def display_results(y_test, y_pred, class_labels=['Irrelevant', 'Negative', 'Neutral', 'Positive'], name='Logistic Regression'):\n",
    "    conf_matrix = confusion_matrix(y_test, y_pred)\n",
    "    report = classification_report(y_test, y_pred)\n",
    "    accuracy = accuracy_score(y_test, y_pred)\n",
    "    \n",
    "    confusion_df = pd.DataFrame(conf_matrix, index=class_labels, columns=class_labels)\n",
    "    sns.heatmap(confusion_df, annot=True, fmt='d', cmap='YlOrBr')\n",
    "    \n",
    "    plt.xlabel('Predicted')\n",
    "    plt.ylabel('Actual')\n",
    "    plt.title(f'Confusion Matrix for {name}')\n",
    "    plt.show()\n",
    "    \n",
    "    print(f'Classification report for {name}:', report, sep='\\n')\n",
    "    print(f'Accuracy score for {name}:', accuracy)"
   ],
   "metadata": {
    "collapsed": false,
    "ExecuteTime": {
     "end_time": "2024-05-24T10:09:27.081073Z",
     "start_time": "2024-05-24T10:09:27.069015Z"
    }
   },
   "id": "fafe25b1950f6c9f",
   "execution_count": 12
  },
  {
   "cell_type": "code",
   "outputs": [
    {
     "data": {
      "text/plain": "<Figure size 640x480 with 2 Axes>",
      "image/png": "[encoded data removed]"
     },
     "metadata": {},
     "output_type": "display_data"
    },
    {
     "name": "stdout",
     "output_type": "stream",
     "text": [
      "Classification report for Logistic Regression:\n",
      "              precision    recall  f1-score   support\n",
      "\n",
      "           0       0.81      0.66      0.73      2696\n",
      "           1       0.79      0.84      0.81      4380\n",
      "           2       0.78      0.73      0.75      3605\n",
      "           3       0.75      0.82      0.78      4119\n",
      "\n",
      "    accuracy                           0.78     14800\n",
      "   macro avg       0.78      0.76      0.77     14800\n",
      "weighted avg       0.78      0.78      0.78     14800\n",
      "\n",
      "Accuracy score for Logistic Regression: 0.777027027027027\n"
     ]
    }
   ],
   "source": [
    "y_pred = model.predict(X_test_vec)\n",
    "display_results(y_test, y_pred)"
   ],
   "metadata": {
    "collapsed": false,
    "ExecuteTime": {
     "end_time": "2024-05-24T10:09:27.348859Z",
     "start_time": "2024-05-24T10:09:27.082073Z"
    }
   },
   "id": "a9c1b70e56543092",
   "execution_count": 13
  },
  {
   "cell_type": "markdown",
   "source": [
    "б) Використовує один з готових лексиконів, наприклад Textblob, для аналізу оцінки настроїв. Також розраховує матрицю невідповідностей, та точність моделі."
   ],
   "metadata": {
    "collapsed": false
   },
   "id": "9761cd8fa024f1f6"
  },
  {
   "cell_type": "code",
   "outputs": [],
   "source": [
    "# Оцінка настроїв за допомогою TextBlob\n",
    "def textblob_sentiment(text):\n",
    "    analysis = TextBlob(text)\n",
    "    if analysis.sentiment.polarity > 0:\n",
    "        return encoder.transform(['Positive'])[0]\n",
    "    elif analysis.sentiment.polarity < 0:\n",
    "        return encoder.transform(['Negative'])[0]\n",
    "    else:\n",
    "        return encoder.transform(['Neutral'])[0]"
   ],
   "metadata": {
    "collapsed": false,
    "ExecuteTime": {
     "end_time": "2024-05-24T10:09:27.363887Z",
     "start_time": "2024-05-24T10:09:27.350367Z"
    }
   },
   "id": "267c0c13e9aa099b",
   "execution_count": 14
  },
  {
   "cell_type": "code",
   "outputs": [
    {
     "data": {
      "text/plain": "61413    1\n44887    1\n73662    2\n36694    3\n2308     3\n        ..\n12630    1\n49615    1\n12322    1\n4355     3\n52612    3\nName: text, Length: 14800, dtype: int32"
     },
     "execution_count": 15,
     "metadata": {},
     "output_type": "execute_result"
    }
   ],
   "source": [
    "# Прогнозування настроїв на тестовій вибірці\n",
    "# X_test = X_test[X_test['sentiment'] in ['Positive', 'Negative', 'Ne']]\n",
    "y_pred_textblob = X_test.apply(textblob_sentiment)\n",
    "y_pred_textblob"
   ],
   "metadata": {
    "collapsed": false,
    "ExecuteTime": {
     "end_time": "2024-05-24T10:09:32.092442Z",
     "start_time": "2024-05-24T10:09:27.364892Z"
    }
   },
   "id": "22be923fd9c4c430",
   "execution_count": 15
  },
  {
   "cell_type": "code",
   "outputs": [
    {
     "data": {
      "text/plain": "<Figure size 640x480 with 2 Axes>",
      "image/png": "[encoded data removed]"
     },
     "metadata": {},
     "output_type": "display_data"
    },
    {
     "name": "stdout",
     "output_type": "stream",
     "text": [
      "Classification report for Logistic Regression:\n",
      "              precision    recall  f1-score   support\n",
      "\n",
      "           0       0.00      0.00      0.00      2696\n",
      "           1       0.49      0.48      0.48      4380\n",
      "           2       0.28      0.29      0.29      3605\n",
      "           3       0.39      0.66      0.49      4119\n",
      "\n",
      "    accuracy                           0.39     14800\n",
      "   macro avg       0.29      0.36      0.32     14800\n",
      "weighted avg       0.32      0.39      0.35     14800\n",
      "\n",
      "Accuracy score for Logistic Regression: 0.3947972972972973\n"
     ]
    }
   ],
   "source": [
    "display_results(y_test, y_pred_textblob)"
   ],
   "metadata": {
    "collapsed": false,
    "ExecuteTime": {
     "end_time": "2024-05-24T10:09:32.372423Z",
     "start_time": "2024-05-24T10:09:32.094443Z"
    }
   },
   "id": "eeff4f732fa73fed",
   "execution_count": 16
  },
  {
   "cell_type": "markdown",
   "source": [
    "в) Обирає три випадкові записи та виводить результати оцінки їх настрою за пунктами а) і б)."
   ],
   "metadata": {
    "collapsed": false
   },
   "id": "21ea83e3cf6e1300"
  },
  {
   "cell_type": "code",
   "outputs": [],
   "source": [
    "random_indices = random.sample(range(len(X_test)), 3)\n",
    "random_texts = X_test.iloc[random_indices]\n",
    "\n",
    "# Оцінка настрою за допомогою моделі логістичної регресії\n",
    "random_texts_vec = vectorizer.transform(random_texts)\n",
    "logreg_predictions = model.predict(random_texts_vec)\n",
    "\n",
    "# Оцінка настрою за допомогою TextBlob\n",
    "textblob_predictions = random_texts.apply(textblob_sentiment)"
   ],
   "metadata": {
    "collapsed": false,
    "ExecuteTime": {
     "end_time": "2024-05-24T10:09:32.387961Z",
     "start_time": "2024-05-24T10:09:32.374424Z"
    }
   },
   "id": "b16e3ed9017bcc65",
   "execution_count": 17
  },
  {
   "cell_type": "code",
   "outputs": [
    {
     "name": "stdout",
     "output_type": "stream",
     "text": [
      "Random Sample Sentiment Analysis:\n"
     ]
    },
    {
     "data": {
      "text/plain": "                                                    text logreg_sentiment  \\\n36161  see: Minecraft HD 2009 Microsoft Inspire 2019 ...          Neutral   \n4345   If you camp in the gulag, that is a special st...       Irrelevant   \n24648  Why lies when you can google and see that you’...         Negative   \n\n      textblob_sentiment actual_sentiment  \n36161            Neutral          Neutral  \n4345            Negative       Irrelevant  \n24648           Negative       Irrelevant  ",
      "text/html": "<div>\n<style scoped>\n    .dataframe tbody tr th:only-of-type {\n        vertical-align: middle;\n    }\n\n    .dataframe tbody tr th {\n        vertical-align: top;\n    }\n\n    .dataframe thead th {\n        text-align: right;\n    }\n</style>\n<table border=\"1\" class=\"dataframe\">\n  <thead>\n    <tr style=\"text-align: right;\">\n      <th></th>\n      <th>text</th>\n      <th>logreg_sentiment</th>\n      <th>textblob_sentiment</th>\n      <th>actual_sentiment</th>\n    </tr>\n  </thead>\n  <tbody>\n    <tr>\n      <th>36161</th>\n      <td>see: Minecraft HD 2009 Microsoft Inspire 2019 ...</td>\n      <td>Neutral</td>\n      <td>Neutral</td>\n      <td>Neutral</td>\n    </tr>\n    <tr>\n      <th>4345</th>\n      <td>If you camp in the gulag, that is a special st...</td>\n      <td>Irrelevant</td>\n      <td>Negative</td>\n      <td>Irrelevant</td>\n    </tr>\n    <tr>\n      <th>24648</th>\n      <td>Why lies when you can google and see that you’...</td>\n      <td>Negative</td>\n      <td>Negative</td>\n      <td>Irrelevant</td>\n    </tr>\n  </tbody>\n</table>\n</div>"
     },
     "execution_count": 18,
     "metadata": {},
     "output_type": "execute_result"
    }
   ],
   "source": [
    "random_results = pd.DataFrame({\n",
    "    'text': random_texts,\n",
    "    'logreg_sentiment': encoder.inverse_transform(logreg_predictions),\n",
    "    'textblob_sentiment': encoder.inverse_transform(textblob_predictions),\n",
    "    'actual_sentiment': encoder.inverse_transform(y_test[random_indices])\n",
    "})\n",
    "\n",
    "print(\"Random Sample Sentiment Analysis:\")\n",
    "random_results"
   ],
   "metadata": {
    "collapsed": false,
    "ExecuteTime": {
     "end_time": "2024-05-24T10:09:32.403551Z",
     "start_time": "2024-05-24T10:09:32.389960Z"
    }
   },
   "id": "3ea7d3d8481e1d55",
   "execution_count": 18
  },
  {
   "cell_type": "markdown",
   "source": [
    "## Виконує завдання відповідно до варіанту засобами бібліотеки spaCy."
   ],
   "metadata": {
    "collapsed": false
   },
   "id": "c56cbae8e01db55f"
  },
  {
   "cell_type": "code",
   "outputs": [
    {
     "data": {
      "text/plain": "US retail sales fell 0.3% in January, the biggest monthly decline since last August, driven down by a heavy fall in car sales.  The 3.3% fall in car sales had been expected, coming after December's 4% rise in car sales, fuelled by generous pre-Christmas special offers. Excluding the car sector, US retail sales were up 0.6% in January, twice what some analysts had been expecting. US retail spending is expected to rise in 2005, but not as quickly as in 2004.  Steve Gallagher, US chief economist at SG Corporate & Investment Banking, said January's figures were \"decent numbers\".  \"We are not seeing the numbers that we saw in the second half of 2004, but they are still pretty healthy,\" he added. Sales at appliance and electronic stores were down 0.6% in January, while sales at hardware stores dropped by 0.3% and furniture store sales dipped 0.1%. Sales at clothing and clothing accessory stores jumped 1.8%, while sales at general merchandise stores, a category that includes department stores, rose by 0.9%. These strong gains were in part put down to consumers spending gift vouchers they had been given for Christmas.  Sales at restaurants, bars and coffee houses rose by 0.3%, while grocery store sales were up 0.5%. In December, overall retail sales rose by 1.1%. Excluding the car sector, sales rose by just 0.3%. Parul Jain, deputy chief economist at Nomura Securities International, said consumer spending would continue to rise in 2005, only at a slower rate of growth than in 2004. \"Consumers continue to retain their strength in the first quarter,\" he said. Van Rourke, a bond strategist at Popular Securities, agreed that the latest retail sales figures were \"slightly stronger than expected\". "
     },
     "execution_count": 19,
     "metadata": {},
     "output_type": "execute_result"
    }
   ],
   "source": [
    "import spacy\n",
    "\n",
    "nlp = spacy.load('en_core_web_sm')\n",
    "\n",
    "with open('lab6-1.txt', 'r') as file:\n",
    "    text = file.read()\n",
    "\n",
    "doc = nlp(text)\n",
    "doc"
   ],
   "metadata": {
    "collapsed": false,
    "ExecuteTime": {
     "end_time": "2024-05-24T10:09:34.183539Z",
     "start_time": "2024-05-24T10:09:32.404552Z"
    }
   },
   "id": "f45153695aeb4772",
   "execution_count": 19
  },
  {
   "cell_type": "markdown",
   "source": [
    "а) Знайти та вивести стоп-слова, які присутні у тексті."
   ],
   "metadata": {
    "collapsed": false
   },
   "id": "1bbeba26994904a6"
  },
  {
   "cell_type": "code",
   "outputs": [
    {
     "name": "stdout",
     "output_type": "stream",
     "text": [
      "Стоп-слова у тексті:\n",
      "{'We', 'of', 'put', 'what', 'only', 'in', 'after', 'not', 'we', 'part', 'are', 'at', 'they', 'is', 'down', 'had', 'that', 'their', 'just', 'some', 'since', 'by', 'a', 'he', 'as', 'still', 'were', 'US', 'been', 'to', 'and', 'the', 'than', 'while', 'The', 'for', 'first', 'last', 'would', 'up', 'These', \"'s\", 'In', 'but'}\n"
     ]
    }
   ],
   "source": [
    "stop_words_in_text = [token.text for token in doc if token.is_stop]\n",
    "print(\"Стоп-слова у тексті:\")\n",
    "print(set(stop_words_in_text))"
   ],
   "metadata": {
    "collapsed": false,
    "ExecuteTime": {
     "end_time": "2024-05-24T10:09:34.199077Z",
     "start_time": "2024-05-24T10:09:34.185543Z"
    }
   },
   "id": "8f13983b420a1b7d",
   "execution_count": 20
  },
  {
   "cell_type": "markdown",
   "source": [
    "б) Знайти та вивести всі іменники, які присутні у тексті. "
   ],
   "metadata": {
    "collapsed": false
   },
   "id": "a7d0e186e4148e05"
  },
  {
   "cell_type": "code",
   "outputs": [
    {
     "name": "stdout",
     "output_type": "stream",
     "text": [
      "\n",
      "Іменники у тексті:\n",
      "{'clothing', 'department', '%', 'decline', 'fall', 'offers', 'spending', 'gains', 'restaurants', 'houses', 'merchandise', 'coffee', 'quarter', 'numbers', 'part', 'Consumers', 'hardware', 'Sales', 'growth', 'vouchers', 'strength', 'rate', 'half', 'sector', 'rise', 'appliance', 'accessory', 'consumer', 'strategist', 'bond', 'store', 'car', 'analysts', 'gift', 'category', 'stores', 'sales', 'furniture', 'bars', 'consumers', 'grocery', 'figures', 'economist'}\n"
     ]
    }
   ],
   "source": [
    "nouns = [token.text for token in doc if token.pos_ == \"NOUN\"]\n",
    "print(\"\\nІменники у тексті:\")\n",
    "print(set(nouns))"
   ],
   "metadata": {
    "collapsed": false,
    "ExecuteTime": {
     "end_time": "2024-05-24T10:09:34.215120Z",
     "start_time": "2024-05-24T10:09:34.200592Z"
    }
   },
   "id": "98064da9363f543f",
   "execution_count": 21
  },
  {
   "cell_type": "markdown",
   "source": [
    "в) Знайти та вивести числа і дати, які присутні у тексті."
   ],
   "metadata": {
    "collapsed": false
   },
   "id": "5bd4410880212b85"
  },
  {
   "cell_type": "code",
   "outputs": [
    {
     "name": "stdout",
     "output_type": "stream",
     "text": [
      "\n",
      "Числа у тексті:\n",
      "{'0.3', '1.1', 'first', '0.9', '0.5', '4', '0.1', '2004', '1.8', '3.3', '2005', '0.6', 'second'}\n",
      "\n",
      "Дати у тексті:\n",
      "{'January', 'last August', 'December', 'the second half of 2004', 'the first quarter', 'monthly', '2004', '2005', 'pre-Christmas', 'Christmas'}\n"
     ]
    }
   ],
   "source": [
    "numbers = [token.text for token in doc if token.like_num]\n",
    "dates = [ent.text for ent in doc.ents if ent.label_ in (\"DATE\", \"TIME\")]\n",
    "print(\"\\nЧисла у тексті:\")\n",
    "print(set(numbers))\n",
    "print(\"\\nДати у тексті:\")\n",
    "print(set(dates))"
   ],
   "metadata": {
    "collapsed": false,
    "ExecuteTime": {
     "end_time": "2024-05-24T10:09:34.231163Z",
     "start_time": "2024-05-24T10:09:34.217123Z"
    }
   },
   "id": "8ba77960adeb57ab",
   "execution_count": 22
  }
 ],
 "metadata": {
  "kernelspec": {
   "display_name": "Python 3",
   "language": "python",
   "name": "python3"
  },
  "language_info": {
   "codemirror_mode": {
    "name": "ipython",
    "version": 2
   },
   "file_extension": ".py",
   "mimetype": "text/x-python",
   "name": "python",
   "nbconvert_exporter": "python",
   "pygments_lexer": "ipython2",
   "version": "2.7.6"
  }
 },
 "nbformat": 4,
 "nbformat_minor": 5
}
