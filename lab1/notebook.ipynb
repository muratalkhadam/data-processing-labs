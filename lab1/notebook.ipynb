{
 "cells": [
  {
   "cell_type": "markdown",
   "source": [
    "# Обробка та аналіз текстових даних на Python \n",
    "# Лабораторна робота №1\n",
    "## Робота з текстовими даними в Python. Варіант 1\n",
    "## Мета роботи: Ознайомитись з представленням тексту в Python та регулярними виразами.\n",
    "# ІП-13 Ал Хадам Мурат Резгович\n",
    "Завдання до лабораторної роботи:\n",
    "1. Зчитує текстовий файл відповідно до варіанту як рядок. За допомогою зрізів виділити частину тексту в окрему змінну-рядок та використати описані в теоретичних відомостях функції та методи для роботи з рядками.\n",
    "2. Знайти всі номери телефонів та замінити у тексті зірочками всі цифри номерів телефонів після першої."
   ],
   "metadata": {
    "collapsed": false
   },
   "id": "95c2df1a55b0d898"
  },
  {
   "cell_type": "markdown",
   "source": [
    "# 1. Зчитує текстовий файл відповідно до варіанту як рядок. За допомогою зрізів виділити частину тексту в окрему змінну-рядок та використати описані в теоретичних відомостях функції та методи для роботи з рядками."
   ],
   "metadata": {
    "collapsed": false
   },
   "id": "3c17e7c7655c1e2c"
  },
  {
   "cell_type": "code",
   "execution_count": 1,
   "id": "initial_id",
   "metadata": {
    "collapsed": true,
    "ExecuteTime": {
     "end_time": "2024-03-21T12:22:16.480973Z",
     "start_time": "2024-03-21T12:22:16.449285Z"
    }
   },
   "outputs": [
    {
     "name": "stdout",
     "output_type": "stream",
     "text": [
      "At three  o'clock 12/05/1895 precisely I was at BAKEr Street, but HOlmes had not\n",
      "yet returned (005)-456-34-23. The landlady informed me that he baker_street@here.uk had left the house\n",
      "shortly after eight o'clock in the morning. I sat down beside the\n",
      "fire, however, with the intention of awaiting him,, however long he\n",
      "might be. 145 124 245 I was already 67-56-34 deeply interested in his inquiry, for, though\n",
      "it was surrounded by none of the grim and strange features which\n",
      "were WATson3@gmail.com associated with the two crimes which I have already recorded,\n",
      "still, the nature of  the case and the exalted station of his client\n",
      "gave it a character of its own 1896/01/23.. Indeed, apart from the nature of the\n",
      "investigation which my friend had on hand, there was something in his\n",
      "masterly 5618 4582 8225 1471 grasp of a situation, and his (03)-8-45-34 keen, incisive reasoning, which\n",
      "made it a pleasure to me to study his system of work, and to follow the\n",
      "quick, subtle 4987 1514 6555 4212 methods by which he disentangled the most inextricable\n",
      "mysteries. So accustomed was I ShHolmes@mail.uk to his invariable success that the very\n",
      "possibility of his failing  had ceased to enter into my head.\n"
     ]
    }
   ],
   "source": [
    "with open('text1.txt', 'r') as f:\n",
    "    content = f.read()\n",
    "    \n",
    "print(content)"
   ]
  },
  {
   "cell_type": "code",
   "outputs": [
    {
     "data": {
      "text/plain": "\"At three  o'clock 12/05/1895 precisely I was at BAKEr Street, but HOlmes had not\\nyet returned (005)-456-34-23. The landlady informed me that he baker_street@here.uk had left the house\\nshortly after eight o'clock in the morning. I sat down beside the\\nfire, however, with the intention of awaiting him,, however long he\\nmight be. 145 124 245 I was already 67-56-34 deeply interested in his inquiry, for, though\\nit was surrounded by none of the grim and strange features which\\nwere WATson3@gmail.com ass\""
     },
     "execution_count": 2,
     "metadata": {},
     "output_type": "execute_result"
    }
   ],
   "source": [
    "temp = content[:500]\n",
    "temp"
   ],
   "metadata": {
    "collapsed": false,
    "ExecuteTime": {
     "end_time": "2024-03-21T12:22:16.496708Z",
     "start_time": "2024-03-21T12:22:16.482975Z"
    }
   },
   "id": "df8fc55d7bbd12da",
   "execution_count": 2
  },
  {
   "cell_type": "code",
   "outputs": [
    {
     "data": {
      "text/plain": "'At t'"
     },
     "execution_count": 3,
     "metadata": {},
     "output_type": "execute_result"
    }
   ],
   "source": [
    "temp[:4]"
   ],
   "metadata": {
    "collapsed": false,
    "ExecuteTime": {
     "end_time": "2024-03-21T12:22:16.512488Z",
     "start_time": "2024-03-21T12:22:16.497711Z"
    }
   },
   "id": "849ac0519507c844",
   "execution_count": 3
  },
  {
   "cell_type": "code",
   "outputs": [
    {
     "data": {
      "text/plain": "500"
     },
     "execution_count": 4,
     "metadata": {},
     "output_type": "execute_result"
    }
   ],
   "source": [
    "len(temp)"
   ],
   "metadata": {
    "collapsed": false,
    "ExecuteTime": {
     "end_time": "2024-03-21T12:22:16.590291Z",
     "start_time": "2024-03-21T12:22:16.576541Z"
    }
   },
   "id": "da6456f578746ac5",
   "execution_count": 4
  },
  {
   "cell_type": "code",
   "outputs": [
    {
     "data": {
      "text/plain": "34"
     },
     "execution_count": 5,
     "metadata": {},
     "output_type": "execute_result"
    }
   ],
   "source": [
    "temp.count('t')"
   ],
   "metadata": {
    "collapsed": false,
    "ExecuteTime": {
     "end_time": "2024-03-21T12:22:16.636791Z",
     "start_time": "2024-03-21T12:22:16.628450Z"
    }
   },
   "id": "4d85f5d9ba9f7e3f",
   "execution_count": 5
  },
  {
   "cell_type": "code",
   "outputs": [
    {
     "data": {
      "text/plain": "1"
     },
     "execution_count": 6,
     "metadata": {},
     "output_type": "execute_result"
    }
   ],
   "source": [
    "temp.find('t')"
   ],
   "metadata": {
    "collapsed": false,
    "ExecuteTime": {
     "end_time": "2024-03-21T12:22:16.774519Z",
     "start_time": "2024-03-21T12:22:16.766386Z"
    }
   },
   "id": "460c7a571b68fb59",
   "execution_count": 6
  },
  {
   "cell_type": "code",
   "outputs": [
    {
     "data": {
      "text/plain": "62"
     },
     "execution_count": 7,
     "metadata": {},
     "output_type": "execute_result"
    }
   ],
   "source": [
    "temp.index('but')"
   ],
   "metadata": {
    "collapsed": false,
    "ExecuteTime": {
     "end_time": "2024-03-21T12:22:16.821338Z",
     "start_time": "2024-03-21T12:22:16.816248Z"
    }
   },
   "id": "6d9b24efd7f6fbc4",
   "execution_count": 7
  },
  {
   "cell_type": "code",
   "outputs": [
    {
     "name": "stdout",
     "output_type": "stream",
     "text": [
      "AT THREE  O'CLOCK 12/05/1895 PRECISELY I WAS AT BAKER STREET, BUT HOLMES HAD NOT\n",
      "YET RETURNED (005)-456-34-23. THE LANDLADY INFORMED ME THAT HE BAKER_STREET@HERE.UK HAD LEFT THE HOUSE\n",
      "SHORTLY AFTER EIGHT O'CLOCK IN THE MORNING. I SAT DOWN BESIDE THE\n",
      "FIRE, HOWEVER, WITH THE INTENTION OF AWAITING HIM,, HOWEVER LONG HE\n",
      "MIGHT BE. 145 124 245 I WAS ALREADY 67-56-34 DEEPLY INTERESTED IN HIS INQUIRY, FOR, THOUGH\n",
      "IT WAS SURROUNDED BY NONE OF THE GRIM AND STRANGE FEATURES WHICH\n",
      "WERE WATSON3@GMAIL.COM ASS\n",
      "\n",
      "at three  o'clock 12/05/1895 precisely i was at baker street, but holmes had not\n",
      "yet returned (005)-456-34-23. the landlady informed me that he baker_street@here.uk had left the house\n",
      "shortly after eight o'clock in the morning. i sat down beside the\n",
      "fire, however, with the intention of awaiting him,, however long he\n",
      "might be. 145 124 245 i was already 67-56-34 deeply interested in his inquiry, for, though\n",
      "it was surrounded by none of the grim and strange features which\n",
      "were watson3@gmail.com ass\n",
      "\n",
      "At Three  O'Clock 12/05/1895 Precisely I Was At Baker Street, But Holmes Had Not\n",
      "Yet Returned (005)-456-34-23. The Landlady Informed Me That He Baker_Street@Here.Uk Had Left The House\n",
      "Shortly After Eight O'Clock In The Morning. I Sat Down Beside The\n",
      "Fire, However, With The Intention Of Awaiting Him,, However Long He\n",
      "Might Be. 145 124 245 I Was Already 67-56-34 Deeply Interested In His Inquiry, For, Though\n",
      "It Was Surrounded By None Of The Grim And Strange Features Which\n",
      "Were Watson3@Gmail.Com Ass\n",
      "\n",
      "At three  o'clock 12/05/1895 precisely i was at baker street, but holmes had not\n",
      "yet returned (005)-456-34-23. the landlady informed me that he baker_street@here.uk had left the house\n",
      "shortly after eight o'clock in the morning. i sat down beside the\n",
      "fire, however, with the intention of awaiting him,, however long he\n",
      "might be. 145 124 245 i was already 67-56-34 deeply interested in his inquiry, for, though\n",
      "it was surrounded by none of the grim and strange features which\n",
      "were watson3@gmail.com ass\n"
     ]
    }
   ],
   "source": [
    "print(temp.upper(), temp.lower(), temp.title(), temp.capitalize(), sep='\\n\\n')"
   ],
   "metadata": {
    "collapsed": false,
    "ExecuteTime": {
     "end_time": "2024-03-21T12:22:16.884652Z",
     "start_time": "2024-03-21T12:22:16.873132Z"
    }
   },
   "id": "41aa68ad27bf755",
   "execution_count": 8
  },
  {
   "cell_type": "code",
   "outputs": [
    {
     "data": {
      "text/plain": "\"A?t? ?t?h?r?e?e? ? ?o?'?c?l?o?c?k? ?1?2?/?0?5?/?1?8?9?5? ?p?r?e?c?i?s?e?l?y? ?I? ?w?a?s? ?a?t? ?B?A?K?E?r? ?S?t?r?e?e?t?,? ?b?u?t? ?H?O?l?m?e?s? ?h?a?d? ?n?o?t?\\n?y?e?t? ?r?e?t?u?r?n?e?d? ?(?0?0?5?)?-?4?5?6?-?3?4?-?2?3?.? ?T?h?e? ?l?a?n?d?l?a?d?y? ?i?n?f?o?r?m?e?d? ?m?e? ?t?h?a?t? ?h?e? ?b?a?k?e?r?_?s?t?r?e?e?t?@?h?e?r?e?.?u?k? ?h?a?d? ?l?e?f?t? ?t?h?e? ?h?o?u?s?e?\\n?s?h?o?r?t?l?y? ?a?f?t?e?r? ?e?i?g?h?t? ?o?'?c?l?o?c?k? ?i?n? ?t?h?e? ?m?o?r?n?i?n?g?.? ?I? ?s?a?t? ?d?o?w?n? ?b?e?s?i?d?e? ?t?h?e?\\n?f?i?r?e?,? ?h?o?w?e?v?e?r?,? ?w?i?t?h? ?t?h?e? ?i?n?t?e?n?t?i?o?n? ?o?f? ?a?w?a?i?t?i?n?g? ?h?i?m?,?,? ?h?o?w?e?v?e?r? ?l?o?n?g? ?h?e?\\n?m?i?g?h?t? ?b?e?.? ?1?4?5? ?1?2?4? ?2?4?5? ?I? ?w?a?s? ?a?l?r?e?a?d?y? ?6?7?-?5?6?-?3?4? ?d?e?e?p?l?y? ?i?n?t?e?r?e?s?t?e?d? ?i?n? ?h?i?s? ?i?n?q?u?i?r?y?,? ?f?o?r?,? ?t?h?o?u?g?h?\\n?i?t? ?w?a?s? ?s?u?r?r?o?u?n?d?e?d? ?b?y? ?n?o?n?e? ?o?f? ?t?h?e? ?g?r?i?m? ?a?n?d? ?s?t?r?a?n?g?e? ?f?e?a?t?u?r?e?s? ?w?h?i?c?h?\\n?w?e?r?e? ?W?A?T?s?o?n?3?@?g?m?a?i?l?.?c?o?m? ?a?s?s\""
     },
     "execution_count": 9,
     "metadata": {},
     "output_type": "execute_result"
    }
   ],
   "source": [
    "'?'.join(temp)"
   ],
   "metadata": {
    "collapsed": false,
    "ExecuteTime": {
     "end_time": "2024-03-21T12:22:16.931443Z",
     "start_time": "2024-03-21T12:22:16.912405Z"
    }
   },
   "id": "cf93caf957208b51",
   "execution_count": 9
  },
  {
   "cell_type": "code",
   "outputs": [
    {
     "data": {
      "text/plain": "\"At three  o'clock 12/05/1895 precisely I was at BAKEr Street\""
     },
     "execution_count": 10,
     "metadata": {},
     "output_type": "execute_result"
    }
   ],
   "source": [
    "temp = temp[:60]\n",
    "temp"
   ],
   "metadata": {
    "collapsed": false,
    "ExecuteTime": {
     "end_time": "2024-03-21T12:22:16.978501Z",
     "start_time": "2024-03-21T12:22:16.963985Z"
    }
   },
   "id": "1a5c1e01cb38edc",
   "execution_count": 10
  },
  {
   "cell_type": "code",
   "outputs": [
    {
     "data": {
      "text/plain": "False"
     },
     "execution_count": 11,
     "metadata": {},
     "output_type": "execute_result"
    }
   ],
   "source": [
    "temp.isalnum()"
   ],
   "metadata": {
    "collapsed": false,
    "ExecuteTime": {
     "end_time": "2024-03-21T12:22:16.993917Z",
     "start_time": "2024-03-21T12:22:16.985862Z"
    }
   },
   "id": "c3e7d4a3ed0b74c9",
   "execution_count": 11
  },
  {
   "cell_type": "code",
   "outputs": [
    {
     "data": {
      "text/plain": "False"
     },
     "execution_count": 12,
     "metadata": {},
     "output_type": "execute_result"
    }
   ],
   "source": [
    "temp.isalpha()"
   ],
   "metadata": {
    "collapsed": false,
    "ExecuteTime": {
     "end_time": "2024-03-21T12:22:17.072784Z",
     "start_time": "2024-03-21T12:22:17.064267Z"
    }
   },
   "id": "c55f8e17d2ee242b",
   "execution_count": 12
  },
  {
   "cell_type": "code",
   "outputs": [
    {
     "data": {
      "text/plain": "False"
     },
     "execution_count": 13,
     "metadata": {},
     "output_type": "execute_result"
    }
   ],
   "source": [
    "temp.isdigit()"
   ],
   "metadata": {
    "collapsed": false,
    "ExecuteTime": {
     "end_time": "2024-03-21T12:22:17.135103Z",
     "start_time": "2024-03-21T12:22:17.126579Z"
    }
   },
   "id": "a3b6d249aa1f5270",
   "execution_count": 13
  },
  {
   "cell_type": "code",
   "outputs": [
    {
     "data": {
      "text/plain": "False"
     },
     "execution_count": 14,
     "metadata": {},
     "output_type": "execute_result"
    }
   ],
   "source": [
    "temp.istitle()"
   ],
   "metadata": {
    "collapsed": false,
    "ExecuteTime": {
     "end_time": "2024-03-21T12:22:17.182225Z",
     "start_time": "2024-03-21T12:22:17.174707Z"
    }
   },
   "id": "1c354fdaec27c4eb",
   "execution_count": 14
  },
  {
   "cell_type": "code",
   "outputs": [
    {
     "data": {
      "text/plain": "False"
     },
     "execution_count": 15,
     "metadata": {},
     "output_type": "execute_result"
    }
   ],
   "source": [
    "temp.isspace()"
   ],
   "metadata": {
    "collapsed": false,
    "ExecuteTime": {
     "end_time": "2024-03-21T12:22:17.369183Z",
     "start_time": "2024-03-21T12:22:17.349651Z"
    }
   },
   "id": "c9fe1315009ef7fd",
   "execution_count": 15
  },
  {
   "cell_type": "code",
   "outputs": [
    {
     "data": {
      "text/plain": "True"
     },
     "execution_count": 16,
     "metadata": {},
     "output_type": "execute_result"
    }
   ],
   "source": [
    "temp.endswith('t')"
   ],
   "metadata": {
    "collapsed": false,
    "ExecuteTime": {
     "end_time": "2024-03-21T12:22:17.447818Z",
     "start_time": "2024-03-21T12:22:17.428090Z"
    }
   },
   "id": "be0da5a73a6a6004",
   "execution_count": 16
  },
  {
   "cell_type": "code",
   "outputs": [
    {
     "data": {
      "text/plain": "False"
     },
     "execution_count": 17,
     "metadata": {},
     "output_type": "execute_result"
    }
   ],
   "source": [
    "temp.startswith('t')"
   ],
   "metadata": {
    "collapsed": false,
    "ExecuteTime": {
     "end_time": "2024-03-21T12:22:17.463772Z",
     "start_time": "2024-03-21T12:22:17.449326Z"
    }
   },
   "id": "4c9dd7db0247c81f",
   "execution_count": 17
  },
  {
   "cell_type": "code",
   "outputs": [
    {
     "name": "stdout",
     "output_type": "stream",
     "text": [
      "At three  o'clock 12/05/1895 precisely I were at BAKEr Street\n"
     ]
    }
   ],
   "source": [
    "print(temp.replace('was', 'were'))"
   ],
   "metadata": {
    "collapsed": false,
    "ExecuteTime": {
     "end_time": "2024-03-21T12:22:17.479310Z",
     "start_time": "2024-03-21T12:22:17.465775Z"
    }
   },
   "id": "184712a086f2ee9",
   "execution_count": 18
  },
  {
   "cell_type": "code",
   "outputs": [
    {
     "data": {
      "text/plain": "['A', ' ', \"hree  o'clock 12/05/1895 precisely I was a\", ' BAKEr S', 'ree', '']"
     },
     "execution_count": 19,
     "metadata": {},
     "output_type": "execute_result"
    }
   ],
   "source": [
    "temp.split('t')"
   ],
   "metadata": {
    "collapsed": false,
    "ExecuteTime": {
     "end_time": "2024-03-21T12:22:17.510290Z",
     "start_time": "2024-03-21T12:22:17.501773Z"
    }
   },
   "id": "acb1c485041db8de",
   "execution_count": 19
  },
  {
   "cell_type": "markdown",
   "source": [
    "`***-**`"
   ],
   "metadata": {
    "collapsed": false
   },
   "id": "9567fca35004c9d4"
  },
  {
   "cell_type": "code",
   "outputs": [
    {
     "name": "stdout",
     "output_type": "stream",
     "text": [
      "Room 304-18\n"
     ]
    }
   ],
   "source": [
    "import re\n",
    "\n",
    "n = re.compile(r'(\\d\\d\\d)-(\\d\\d)')\n",
    "room = n.search('Room number is 304-18.')\n",
    "print('Room ' + room.group())"
   ],
   "metadata": {
    "collapsed": false,
    "ExecuteTime": {
     "end_time": "2024-03-21T12:22:17.557674Z",
     "start_time": "2024-03-21T12:22:17.540561Z"
    }
   },
   "id": "d37b9490d5648ef4",
   "execution_count": 20
  },
  {
   "cell_type": "code",
   "outputs": [
    {
     "name": "stdout",
     "output_type": "stream",
     "text": [
      "304-18\n",
      "304\n",
      "18\n"
     ]
    }
   ],
   "source": [
    "print(room.group(0))\n",
    "print(room.group(1))\n",
    "print(room.group(2))"
   ],
   "metadata": {
    "collapsed": false,
    "ExecuteTime": {
     "end_time": "2024-03-21T12:22:17.683402Z",
     "start_time": "2024-03-21T12:22:17.671880Z"
    }
   },
   "id": "c4af861934b6d32f",
   "execution_count": 21
  },
  {
   "cell_type": "markdown",
   "source": [
    "`???-**`"
   ],
   "metadata": {
    "collapsed": false
   },
   "id": "ff7e8dba23f9b6e"
  },
  {
   "cell_type": "code",
   "outputs": [
    {
     "name": "stdout",
     "output_type": "stream",
     "text": [
      "Room 18\n"
     ]
    }
   ],
   "source": [
    "n = re.compile(r'(\\d\\d\\d-)?\\d\\d')\n",
    "room = n.search('Room number is 18.')\n",
    "print('Room ' + room.group())"
   ],
   "metadata": {
    "collapsed": false,
    "ExecuteTime": {
     "end_time": "2024-03-21T12:22:17.730417Z",
     "start_time": "2024-03-21T12:22:17.718380Z"
    }
   },
   "id": "c58688f24577cbc4",
   "execution_count": 22
  },
  {
   "cell_type": "markdown",
   "source": [
    "`**`"
   ],
   "metadata": {
    "collapsed": false
   },
   "id": "78312444bb5a115d"
  },
  {
   "cell_type": "code",
   "outputs": [
    {
     "name": "stdout",
     "output_type": "stream",
     "text": [
      "Number 18\n"
     ]
    }
   ],
   "source": [
    "n = re.compile(r'(\\d){2}')\n",
    "room = n.search('Number is 183.')\n",
    "print('Number ' + room.group())"
   ],
   "metadata": {
    "collapsed": false,
    "ExecuteTime": {
     "end_time": "2024-03-21T12:22:17.823760Z",
     "start_time": "2024-03-21T12:22:17.814229Z"
    }
   },
   "id": "d1003a8074570401",
   "execution_count": 23
  },
  {
   "cell_type": "markdown",
   "source": [
    "`*, **, ***, ****`"
   ],
   "metadata": {
    "collapsed": false
   },
   "id": "3a04e56815ef0a"
  },
  {
   "cell_type": "code",
   "outputs": [
    {
     "name": "stdout",
     "output_type": "stream",
     "text": [
      "Number 183\n"
     ]
    }
   ],
   "source": [
    "n = re.compile(r'(\\d){1,4}')\n",
    "room = n.search('Number is 183.')\n",
    "print('Number ' + room.group())"
   ],
   "metadata": {
    "collapsed": false,
    "ExecuteTime": {
     "end_time": "2024-03-21T12:22:17.853919Z",
     "start_time": "2024-03-21T12:22:17.843408Z"
    }
   },
   "id": "6bee99e221c8136a",
   "execution_count": 24
  },
  {
   "cell_type": "code",
   "outputs": [
    {
     "name": "stdout",
     "output_type": "stream",
     "text": [
      "['R', 'o', 'o', 'm', 'n', 'u', 'm', 'b', 'e', 'r', 'i', 's', '3', '0', '4', '1', '8']\n"
     ]
    }
   ],
   "source": [
    "n = re.compile(r'[a-zA-Z0-9]')\n",
    "room = n.findall('Room number is 304-18')\n",
    "print(room)"
   ],
   "metadata": {
    "collapsed": false,
    "ExecuteTime": {
     "end_time": "2024-03-21T12:22:17.931324Z",
     "start_time": "2024-03-21T12:22:17.913627Z"
    }
   },
   "id": "47b264ba5cf6a2e7",
   "execution_count": 25
  },
  {
   "cell_type": "markdown",
   "source": [
    "# 2. Знайти всі номери телефонів та замінити у тексті зірочками всі цифри номерів телефонів після першої."
   ],
   "metadata": {
    "collapsed": false
   },
   "id": "432a17a9673468a3"
  },
  {
   "cell_type": "code",
   "outputs": [
    {
     "data": {
      "text/plain": "\"At three  o'clock 12/05/1895 precisely I was at BAKEr Street, but HOlmes had not\\nyet returned (005)-456-34-23. The landlady informed me that he baker_street@here.uk had left the house\\nshortly after eight o'clock in the morning. I sat down beside the\\nfire, however, with the intention of awaiting him,, however long he\\nmight be. 145 124 245 I was already 67-56-34 deeply interested in his inquiry, for, though\\nit was surrounded by none of the grim and strange features which\\nwere WATson3@gmail.com associated with the two crimes which I have already recorded,\\nstill, the nature of  the case and the exalted station of his client\\ngave it a character of its own 1896/01/23.. Indeed, apart from the nature of the\\ninvestigation which my friend had on hand, there was something in his\\nmasterly 5618 4582 8225 1471 grasp of a situation, and his (03)-8-45-34 keen, incisive reasoning, which\\nmade it a pleasure to me to study his system of work, and to follow the\\nquick, subtle 4987 1514 6555 4212 methods by which he disentangled the most inextricable\\nmysteries. So accustomed was I ShHolmes@mail.uk to his invariable success that the very\\npossibility of his failing  had ceased to enter into my head.\""
     },
     "execution_count": 26,
     "metadata": {},
     "output_type": "execute_result"
    }
   ],
   "source": [
    "content"
   ],
   "metadata": {
    "collapsed": false,
    "ExecuteTime": {
     "end_time": "2024-03-21T12:22:17.962181Z",
     "start_time": "2024-03-21T12:22:17.944599Z"
    }
   },
   "id": "90c94a9791de9aec",
   "execution_count": 26
  },
  {
   "cell_type": "code",
   "outputs": [
    {
     "name": "stdout",
     "output_type": "stream",
     "text": [
      "Found numbers: ['(005)-456-34-23', '145 124 245', '67-56-34', '5618 4582 8225 1471', '(03)-8-45-34', '4987 1514 6555 4212']\n"
     ]
    }
   ],
   "source": [
    "phone_pattern = (r'\\(\\d{1,3}\\)-\\d{1,3}-\\d{1,2}-\\d{1,2}'\n",
    "                 r'|'\n",
    "                 r'\\(?\\d{1,3}[-\\s]\\d{1,3}[-\\s]\\d{1,3}'\n",
    "                 r'|'\n",
    "                 r'\\d{3,4} \\d{3,4} \\d{3,4} \\d{3,4}')\n",
    "phone_numbers = re.findall(phone_pattern, content)\n",
    "print('Found numbers:', phone_numbers)"
   ],
   "metadata": {
    "collapsed": false,
    "ExecuteTime": {
     "end_time": "2024-03-21T12:22:17.977709Z",
     "start_time": "2024-03-21T12:22:17.967181Z"
    }
   },
   "id": "bcdda2ff813ed6a1",
   "execution_count": 27
  },
  {
   "cell_type": "code",
   "outputs": [
    {
     "name": "stdout",
     "output_type": "stream",
     "text": [
      "(005)-456-34-23 -> (0**)-***-**-**\n",
      "145 124 245 -> 1** *** ***\n",
      "67-56-34 -> 6*-**-**\n",
      "5618 4582 8225 1471 -> 5*** **** **** ****\n",
      "(03)-8-45-34 -> (0*)-*-**-**\n",
      "4987 1514 6555 4212 -> 4*** **** **** ****\n"
     ]
    }
   ],
   "source": [
    "# Замінюємо цифри після першої на \"*\"\n",
    "for phone_number in phone_numbers:\n",
    "    if phone_number[0] != '(':\n",
    "        masked_number = re.sub(r'\\d', lambda x: '*' if x.start() > 0 else x.group(), phone_number)\n",
    "    else:\n",
    "        masked_number = re.sub(r'\\d', lambda x: '*' if x.start() > 1 else x.group(), phone_number)\n",
    "        \n",
    "    content = content.replace(phone_number, masked_number)\n",
    "    print(phone_number, '->', masked_number)"
   ],
   "metadata": {
    "collapsed": false,
    "ExecuteTime": {
     "end_time": "2024-03-21T12:22:18.039280Z",
     "start_time": "2024-03-21T12:22:18.029680Z"
    }
   },
   "id": "701067833261a4d2",
   "execution_count": 28
  },
  {
   "cell_type": "code",
   "outputs": [
    {
     "name": "stdout",
     "output_type": "stream",
     "text": [
      "At three  o'clock 12/05/1895 precisely I was at BAKEr Street, but HOlmes had not\n",
      "yet returned (0**)-***-**-**. The landlady informed me that he baker_street@here.uk had left the house\n",
      "shortly after eight o'clock in the morning. I sat down beside the\n",
      "fire, however, with the intention of awaiting him,, however long he\n",
      "might be. 1** *** *** I was already 6*-**-** deeply interested in his inquiry, for, though\n",
      "it was surrounded by none of the grim and strange features which\n",
      "were WATson3@gmail.com associated with the two crimes which I have already recorded,\n",
      "still, the nature of  the case and the exalted station of his client\n",
      "gave it a character of its own 1896/01/23.. Indeed, apart from the nature of the\n",
      "investigation which my friend had on hand, there was something in his\n",
      "masterly 5*** **** **** **** grasp of a situation, and his (0*)-*-**-** keen, incisive reasoning, which\n",
      "made it a pleasure to me to study his system of work, and to follow the\n",
      "quick, subtle 4*** **** **** **** methods by which he disentangled the most inextricable\n",
      "mysteries. So accustomed was I ShHolmes@mail.uk to his invariable success that the very\n",
      "possibility of his failing  had ceased to enter into my head.\n"
     ]
    }
   ],
   "source": [
    "print(content)"
   ],
   "metadata": {
    "collapsed": false,
    "ExecuteTime": {
     "end_time": "2024-03-21T12:22:18.116429Z",
     "start_time": "2024-03-21T12:22:18.104908Z"
    }
   },
   "id": "7a03db09fd56d04",
   "execution_count": 29
  }
 ],
 "metadata": {
  "kernelspec": {
   "display_name": "Python 3",
   "language": "python",
   "name": "python3"
  },
  "language_info": {
   "codemirror_mode": {
    "name": "ipython",
    "version": 2
   },
   "file_extension": ".py",
   "mimetype": "text/x-python",
   "name": "python",
   "nbconvert_exporter": "python",
   "pygments_lexer": "ipython2",
   "version": "2.7.6"
  }
 },
 "nbformat": 4,
 "nbformat_minor": 5
}
