{
 "cells": [
  {
   "cell_type": "markdown",
   "source": [
    "# Лабораторна робота №4 з Обробĸи та аналізу теĸстових даних на Python.\n",
    "# ІП-13 Ал Хадам Мурат. Варіант 1.\n",
    "\n",
    "Створити програму, яка зчитує заданий набір даних, виконує попередню обробку та класифікацію документів відповідно до варіанту. Якщо недостатньо ресурсів для роботи з повним набором даних, можна виділити частину, але таким чином, щоб були присутні усі класи.\n",
    "\n",
    "В якості текстової моделі використати TF-IDF. Виконати класифікацію за допомогою алгоритмів наївний байєсів  класифікатор та опорні вектори, порівняти їх точність. Спробувати покращити моделі за допомогою  GridSearchCV.\n"
   ],
   "metadata": {
    "collapsed": false
   },
   "id": "880d37a1ebd02dd6"
  },
  {
   "cell_type": "code",
   "execution_count": 4,
   "id": "initial_id",
   "metadata": {
    "collapsed": true,
    "ExecuteTime": {
     "end_time": "2024-05-24T04:39:51.992499Z",
     "start_time": "2024-05-24T04:39:51.403740Z"
    }
   },
   "outputs": [
    {
     "name": "stderr",
     "output_type": "stream",
     "text": [
      "[nltk_data] Downloading package stopwords to\n",
      "[nltk_data]     C:\\Users\\murat\\AppData\\Roaming\\nltk_data...\n",
      "[nltk_data]   Package stopwords is already up-to-date!\n"
     ]
    },
    {
     "data": {
      "text/plain": "True"
     },
     "execution_count": 4,
     "metadata": {},
     "output_type": "execute_result"
    }
   ],
   "source": [
    "import numpy as np\n",
    "import pandas as pd\n",
    "from sklearn.model_selection import train_test_split, GridSearchCV\n",
    "from sklearn.ensemble import RandomForestClassifier, GradientBoostingClassifier\n",
    "from sklearn.pipeline import Pipeline\n",
    "from sklearn.metrics import accuracy_score\n",
    "from nltk.corpus import stopwords\n",
    "from nltk.tokenize import word_tokenize\n",
    "from nltk import download\n",
    "import string\n",
    "download('stopwords')"
   ]
  },
  {
   "cell_type": "markdown",
   "source": [
    "Завантажуємо дані та розбиваємо на X та Y"
   ],
   "metadata": {
    "collapsed": false
   },
   "id": "b440e336e648ca09"
  },
  {
   "cell_type": "code",
   "outputs": [
    {
     "data": {
      "text/plain": "      category filename                              title  \\\n0     business  001.txt  Ad sales boost Time Warner profit   \n1     business  002.txt   Dollar gains on Greenspan speech   \n2     business  003.txt  Yukos unit buyer faces loan claim   \n3     business  004.txt  High fuel prices hit BA's profits   \n4     business  005.txt  Pernod takeover talk lifts Domecq   \n...        ...      ...                                ...   \n2220      tech  397.txt   BT program to beat dialler scams   \n2221      tech  398.txt    Spam e-mails tempt net shoppers   \n2222      tech  399.txt            Be careful how you code   \n2223      tech  400.txt    US cyber security chief resigns   \n2224      tech  401.txt   Losing yourself in online gaming   \n\n                                                content  \n0      Quarterly profits at US media giant TimeWarne...  \n1      The dollar has hit its highest level against ...  \n2      The owners of embattled Russian oil giant Yuk...  \n3      British Airways has blamed high fuel prices f...  \n4      Shares in UK drinks and food firm Allied Dome...  \n...                                                 ...  \n2220   BT is introducing two initiatives to help bea...  \n2221   Computer users across the world continue to i...  \n2222   A new European directive could put software w...  \n2223   The man making sure US computer networks are ...  \n2224   Online role playing games are time-consuming,...  \n\n[2225 rows x 4 columns]",
      "text/html": "<div>\n<style scoped>\n    .dataframe tbody tr th:only-of-type {\n        vertical-align: middle;\n    }\n\n    .dataframe tbody tr th {\n        vertical-align: top;\n    }\n\n    .dataframe thead th {\n        text-align: right;\n    }\n</style>\n<table border=\"1\" class=\"dataframe\">\n  <thead>\n    <tr style=\"text-align: right;\">\n      <th></th>\n      <th>category</th>\n      <th>filename</th>\n      <th>title</th>\n      <th>content</th>\n    </tr>\n  </thead>\n  <tbody>\n    <tr>\n      <th>0</th>\n      <td>business</td>\n      <td>001.txt</td>\n      <td>Ad sales boost Time Warner profit</td>\n      <td>Quarterly profits at US media giant TimeWarne...</td>\n    </tr>\n    <tr>\n      <th>1</th>\n      <td>business</td>\n      <td>002.txt</td>\n      <td>Dollar gains on Greenspan speech</td>\n      <td>The dollar has hit its highest level against ...</td>\n    </tr>\n    <tr>\n      <th>2</th>\n      <td>business</td>\n      <td>003.txt</td>\n      <td>Yukos unit buyer faces loan claim</td>\n      <td>The owners of embattled Russian oil giant Yuk...</td>\n    </tr>\n    <tr>\n      <th>3</th>\n      <td>business</td>\n      <td>004.txt</td>\n      <td>High fuel prices hit BA's profits</td>\n      <td>British Airways has blamed high fuel prices f...</td>\n    </tr>\n    <tr>\n      <th>4</th>\n      <td>business</td>\n      <td>005.txt</td>\n      <td>Pernod takeover talk lifts Domecq</td>\n      <td>Shares in UK drinks and food firm Allied Dome...</td>\n    </tr>\n    <tr>\n      <th>...</th>\n      <td>...</td>\n      <td>...</td>\n      <td>...</td>\n      <td>...</td>\n    </tr>\n    <tr>\n      <th>2220</th>\n      <td>tech</td>\n      <td>397.txt</td>\n      <td>BT program to beat dialler scams</td>\n      <td>BT is introducing two initiatives to help bea...</td>\n    </tr>\n    <tr>\n      <th>2221</th>\n      <td>tech</td>\n      <td>398.txt</td>\n      <td>Spam e-mails tempt net shoppers</td>\n      <td>Computer users across the world continue to i...</td>\n    </tr>\n    <tr>\n      <th>2222</th>\n      <td>tech</td>\n      <td>399.txt</td>\n      <td>Be careful how you code</td>\n      <td>A new European directive could put software w...</td>\n    </tr>\n    <tr>\n      <th>2223</th>\n      <td>tech</td>\n      <td>400.txt</td>\n      <td>US cyber security chief resigns</td>\n      <td>The man making sure US computer networks are ...</td>\n    </tr>\n    <tr>\n      <th>2224</th>\n      <td>tech</td>\n      <td>401.txt</td>\n      <td>Losing yourself in online gaming</td>\n      <td>Online role playing games are time-consuming,...</td>\n    </tr>\n  </tbody>\n</table>\n<p>2225 rows × 4 columns</p>\n</div>"
     },
     "execution_count": 5,
     "metadata": {},
     "output_type": "execute_result"
    }
   ],
   "source": [
    "data = pd.read_csv('bbc-news-data.csv', delimiter='\\t')\n",
    "data"
   ],
   "metadata": {
    "collapsed": false,
    "ExecuteTime": {
     "end_time": "2024-05-24T04:40:48.185500Z",
     "start_time": "2024-05-24T04:40:48.030754Z"
    }
   },
   "id": "53538830ab513923",
   "execution_count": 5
  },
  {
   "cell_type": "markdown",
   "source": [
    "Розбиваємо дані залежні/незалежні змінні"
   ],
   "metadata": {
    "collapsed": false
   },
   "id": "982cb8aeab1d900"
  },
  {
   "cell_type": "code",
   "outputs": [],
   "source": [
    "X = data['content']\n",
    "y = data['category']"
   ],
   "metadata": {
    "collapsed": false,
    "ExecuteTime": {
     "end_time": "2024-05-24T05:02:18.136438Z",
     "start_time": "2024-05-24T05:02:18.131931Z"
    }
   },
   "id": "4597b8f44446ee26",
   "execution_count": 21
  },
  {
   "cell_type": "code",
   "outputs": [],
   "source": [
    "X_train, X_test, y_train, y_test = train_test_split(X, y, test_size=0.2, random_state=42)"
   ],
   "metadata": {
    "collapsed": false,
    "ExecuteTime": {
     "end_time": "2024-05-24T05:02:18.636559Z",
     "start_time": "2024-05-24T05:02:18.626959Z"
    }
   },
   "id": "b55c6641bd027e29",
   "execution_count": 22
  },
  {
   "cell_type": "code",
   "outputs": [],
   "source": [
    "from sklearn.feature_extraction.text import TfidfVectorizer\n",
    "\n",
    "tfidf_vectorizer = TfidfVectorizer()\n",
    "X_train_bow = tfidf_vectorizer.fit_transform(X_train)\n",
    "X_test_bow = tfidf_vectorizer.transform(X_test)"
   ],
   "metadata": {
    "collapsed": false,
    "ExecuteTime": {
     "end_time": "2024-05-24T05:02:19.863334Z",
     "start_time": "2024-05-24T05:02:19.111040Z"
    }
   },
   "id": "a3c28ca68d534be4",
   "execution_count": 23
  },
  {
   "cell_type": "code",
   "outputs": [],
   "source": [
    "X_test_bow = X_test_bow.toarray()"
   ],
   "metadata": {
    "collapsed": false,
    "ExecuteTime": {
     "end_time": "2024-05-24T05:04:05.827483Z",
     "start_time": "2024-05-24T05:04:05.798920Z"
    }
   },
   "id": "a8adf5bcfc75deeb",
   "execution_count": 28
  },
  {
   "cell_type": "code",
   "outputs": [],
   "source": [
    "X_train_bow = X_train_bow.toarray()"
   ],
   "metadata": {
    "collapsed": false,
    "ExecuteTime": {
     "end_time": "2024-05-24T05:04:06.376598Z",
     "start_time": "2024-05-24T05:04:06.249815Z"
    }
   },
   "id": "8adc312ab73ac468",
   "execution_count": 29
  },
  {
   "cell_type": "markdown",
   "source": [
    "Виконати класифікацію за допомогою алгоритмів наївний байєсів  класифікатор та опорні вектори, порівняти їх точність. Спробувати покращити моделі за допомогою  GridSearchCV.\n",
    "\n",
    "GaussianNB"
   ],
   "metadata": {
    "collapsed": false
   },
   "id": "6d180d39a6524d1a"
  },
  {
   "cell_type": "code",
   "outputs": [
    {
     "name": "stdout",
     "output_type": "stream",
     "text": [
      "Best value for 'var_smoothing' hyperparameter is 0.01\n"
     ]
    }
   ],
   "source": [
    "from sklearn.metrics import classification_report\n",
    "from sklearn.naive_bayes import GaussianNB\n",
    "from sklearn.svm import SVC\n",
    "\n",
    "gnb = GaussianNB()\n",
    "gnb_parameters = {\n",
    "    'var_smoothing': [1/(10**i) for i in range(1,9)]\n",
    "}\n",
    "\n",
    "gnb_grid_search = GridSearchCV(gnb, gnb_parameters, cv=5, scoring='accuracy')\n",
    "gnb_grid_search.fit(X_train_bow, y_train)\n",
    "\n",
    "print(\"Best value for 'var_smoothing' hyperparameter is\", gnb_grid_search.best_params_['var_smoothing'])"
   ],
   "metadata": {
    "collapsed": false,
    "ExecuteTime": {
     "end_time": "2024-05-24T05:15:34.654474Z",
     "start_time": "2024-05-24T05:15:00.805864Z"
    }
   },
   "id": "541932abe87d1d71",
   "execution_count": 37
  },
  {
   "cell_type": "code",
   "outputs": [
    {
     "name": "stdout",
     "output_type": "stream",
     "text": [
      "GNB classification report is\n",
      "                precision    recall  f1-score   support\n",
      "\n",
      "     business       0.94      0.90      0.92       115\n",
      "entertainment       0.97      0.94      0.96        72\n",
      "     politics       0.88      0.91      0.90        76\n",
      "        sport       0.98      0.99      0.99       102\n",
      "         tech       0.92      0.97      0.95        80\n",
      "\n",
      "     accuracy                           0.94       445\n",
      "    macro avg       0.94      0.94      0.94       445\n",
      " weighted avg       0.94      0.94      0.94       445\n"
     ]
    }
   ],
   "source": [
    "gnb_best_model = gnb_grid_search.best_estimator_\n",
    "\n",
    "gnb_best_test_pred = gnb_best_model.predict(X_test_bow)\n",
    "gnb_best_report = classification_report(y_test, gnb_best_test_pred)\n",
    "\n",
    "print('GNB classification report is\\n', gnb_best_report)"
   ],
   "metadata": {
    "collapsed": false,
    "ExecuteTime": {
     "end_time": "2024-05-24T05:16:47.961330Z",
     "start_time": "2024-05-24T05:16:47.408319Z"
    }
   },
   "id": "299f60c7009bcad9",
   "execution_count": 39
  },
  {
   "cell_type": "markdown",
   "source": [
    "SVC"
   ],
   "metadata": {
    "collapsed": false
   },
   "id": "78964ddaad675c9d"
  },
  {
   "cell_type": "code",
   "outputs": [],
   "source": [
    "from sklearn.svm import SVC\n",
    "\n",
    "svc = SVC()\n",
    "svc_parameters = {\n",
    "    'C': [0.1, 1],\n",
    "    'kernel': ['rbf', 'sigmoid']\n",
    "}\n",
    "\n",
    "svc_grid_search = GridSearchCV(svc, svc_parameters, cv=5, scoring='accuracy')\n",
    "svc_grid_search.fit(X_train_bow, y_train)\n",
    "\n",
    "print(\"Best value for 'C' hyperparameter is\", svc_grid_search.best_params_['C'])\n",
    "print(\"Best value for 'kernel' hyperparameter is\", svc_grid_search.best_params_['kernel'])"
   ],
   "metadata": {
    "collapsed": false,
    "is_executing": true,
    "ExecuteTime": {
     "start_time": "2024-05-24T05:28:01.300125Z"
    }
   },
   "id": "7d8efd6ee76382b9",
   "execution_count": null
  },
  {
   "cell_type": "code",
   "outputs": [],
   "source": [
    "svc_best_model = svc_grid_search.best_estimator_\n",
    "\n",
    "svc_best_test_pred = svc_best_model.predict(X_test_bow)\n",
    "svc_best_report = classification_report(y_test, svc_best_test_pred)\n",
    "\n",
    "print('GNB classification report is\\n', svc_best_report)"
   ],
   "metadata": {
    "collapsed": false
   },
   "id": "1f898a1d812fae48"
  }
 ],
 "metadata": {
  "kernelspec": {
   "display_name": "Python 3",
   "language": "python",
   "name": "python3"
  },
  "language_info": {
   "codemirror_mode": {
    "name": "ipython",
    "version": 2
   },
   "file_extension": ".py",
   "mimetype": "text/x-python",
   "name": "python",
   "nbconvert_exporter": "python",
   "pygments_lexer": "ipython2",
   "version": "2.7.6"
  }
 },
 "nbformat": 4,
 "nbformat_minor": 5
}
